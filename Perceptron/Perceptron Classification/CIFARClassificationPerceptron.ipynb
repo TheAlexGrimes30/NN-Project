{
 "cells": [
  {
   "cell_type": "code",
   "execution_count": 1,
   "id": "bba92138-3d01-4574-8d6b-51d84d036817",
   "metadata": {},
   "outputs": [],
   "source": [
    "import torch\n",
    "import torchvision\n",
    "import torchvision.transforms as transforms\n",
    "from torchvision.datasets import CIFAR10\n",
    "from torch.utils.data import random_split, DataLoader\n",
    "from torch import nn, optim\n",
    "from sklearn.metrics import accuracy_score, precision_score, f1_score\n",
    "from tqdm import tqdm\n",
    "import os\n",
    "import numpy as np\n",
    "import torch.nn.functional as F\n",
    "from torch.utils.tensorboard import SummaryWriter\n",
    "from datetime import datetime"
   ]
  },
  {
   "cell_type": "code",
   "execution_count": 2,
   "id": "dada2544-1ac9-4032-8af4-90f0ed8d3977",
   "metadata": {},
   "outputs": [],
   "source": [
    "transform = transforms.Compose([\n",
    "    transforms.ToTensor(),\n",
    "    transforms.Lambda(lambda x: x.view(-1))\n",
    "])\n",
    "\n",
    "dataset = CIFAR10(root='./data', train=True, download=True, transform=transform)\n",
    "\n",
    "g = torch.Generator().manual_seed(42)\n",
    "\n",
    "train_size = int(0.6 * len(dataset))\n",
    "val_size = int(0.2 * len(dataset))\n",
    "test_size = len(dataset) - train_size - val_size\n",
    "\n",
    "trainset, valset, testset = random_split(dataset, [train_size, val_size, test_size],\n",
    "                                         generator=g)\n",
    "\n",
    "train_loader = DataLoader(trainset, batch_size=64, shuffle=True)\n",
    "val_loader = DataLoader(valset, batch_size=64, shuffle=False)\n",
    "test_loader = DataLoader(testset, batch_size=64, shuffle=False)"
   ]
  },
  {
   "cell_type": "code",
   "execution_count": 3,
   "id": "fdc148ef-3426-425d-bc14-fa42184a7fd4",
   "metadata": {},
   "outputs": [],
   "source": [
    "class Perceptron(nn.Module):\n",
    "    def __init__(self,\n",
    "                 input_dim: int = 32 * 32 * 3,\n",
    "                 hidden_dim: int = 128, output_dim: int = 10\n",
    "                ):\n",
    "        super().__init__()\n",
    "\n",
    "        self.activation = nn.ReLU()\n",
    "        self.fc1 = nn.Linear(input_dim, hidden_dim)\n",
    "        self.fc2 = nn.Linear(hidden_dim, output_dim)\n",
    "\n",
    "    def forward(self, x):\n",
    "        x = self.activation(self.fc1(x))\n",
    "        x = self.activation(self.fc2(x))\n",
    "        return x"
   ]
  },
  {
   "cell_type": "code",
   "execution_count": 4,
   "id": "a5c7a7a4-64ec-48fb-be58-c31194c9f3ca",
   "metadata": {},
   "outputs": [],
   "source": [
    "class ModelTrainer:\n",
    "    def __init__(\n",
    "        self,\n",
    "        model,\n",
    "        device,\n",
    "        optimizer,\n",
    "        criterion,\n",
    "        train_loader,\n",
    "        val_loader,\n",
    "        test_loader,\n",
    "        epochs: int = 1,\n",
    "        save_weights: bool =True,\n",
    "        log_dir: str = \"runs\"\n",
    "    ):\n",
    "        self.model = model\n",
    "        self.device = device\n",
    "        self.model = self.model.to(self.device)\n",
    "        self.optimizer = optimizer\n",
    "        self.criterion = criterion\n",
    "        \n",
    "        self.train_loader = train_loader\n",
    "        self.val_loader = val_loader\n",
    "        self.test_loader = test_loader\n",
    "        \n",
    "        self.epochs = epochs\n",
    "        self.epoch = 1\n",
    "\n",
    "        self.save_weights = save_weights\n",
    "\n",
    "        self.current_time = datetime.now().strftime(\"%Y-%m-%d_%H-%M-%S\")\n",
    "        self.model_name = self.model.__class__.__name__\n",
    "        self.log_dir = os.path.join(\"runs\", f\"{self.model_name}_PerceptronClf_{self.current_time}\")\n",
    "\n",
    "        self.writer = SummaryWriter(log_dir=self.log_dir)\n",
    "\n",
    "        self.schedular = optim.lr_scheduler.StepLR(\n",
    "            self.optimizer,\n",
    "            step_size=10,\n",
    "            gamma=0.5\n",
    "        )\n",
    "        \n",
    "    def process_model(self):\n",
    "        for epoch in range(self.epochs):\n",
    "            train_loss, train_accuracy = self._train_model()\n",
    "            val_loss, val_accuracy = self._validate_model()\n",
    "\n",
    "            self.schedular.step()\n",
    "            \n",
    "            self.epoch += 1\n",
    "\n",
    "        self.writer.close()\n",
    "        return train_loss, val_loss, train_accuracy, val_accuracy\n",
    "\n",
    "    def _train_model(self):\n",
    "        self.model.train()\n",
    "        total_loss = 0.0\n",
    "        all_preds, all_targets = [], []\n",
    "\n",
    "        for images, labels in tqdm(self.train_loader):\n",
    "            images, labels = images.to(self.device), labels.to(self.device)\n",
    "\n",
    "            outputs = self.model(images)\n",
    "            loss = self.criterion(outputs, labels)\n",
    "            \n",
    "            self.optimizer.zero_grad()\n",
    "            loss.backward()\n",
    "            self.optimizer.step()\n",
    "\n",
    "            total_loss += loss.item()\n",
    "\n",
    "            preds = torch.argmax(outputs, dim=1)\n",
    "            all_preds.extend(preds.cpu().numpy())\n",
    "            all_targets.extend(labels.cpu().numpy())\n",
    "\n",
    "        train_loss = total_loss / len(self.train_loader)\n",
    "        accuracy = accuracy_score(all_targets, all_preds)\n",
    "        precision = precision_score(all_targets, all_preds, average=\"weighted\", zero_division=0)\n",
    "        f1 = f1_score(all_targets, all_preds, average=\"weighted\", zero_division=0)\n",
    "        \n",
    "        self._print_metrics(\"Train\", train_loss, accuracy, precision, f1)\n",
    "        \n",
    "        self.writer.add_scalar(\"Loss/Train\", train_loss, self.epoch)\n",
    "        self.writer.add_scalar(\"Accuracy/Train\", accuracy, self.epoch)\n",
    "        self.writer.add_scalar(\"Precision/Train\", precision, self.epoch)\n",
    "        self.writer.add_scalar(\"F1/Train\", f1, self.epoch)\n",
    "\n",
    "        return train_loss, accuracy\n",
    "\n",
    "    def _validate_model(self):\n",
    "        self.model.eval()\n",
    "        total_loss = 0.0\n",
    "        all_preds, all_targets = [], []\n",
    "\n",
    "        with torch.no_grad():\n",
    "            for images, labels in tqdm(self.val_loader):\n",
    "                images, labels = images.to(self.device), labels.to(self.device)\n",
    "\n",
    "                outputs = self.model(images)\n",
    "                loss = self.criterion(outputs, labels)\n",
    "                \n",
    "                total_loss += loss.item()\n",
    "\n",
    "                preds = torch.argmax(outputs, dim=1)\n",
    "                all_preds.extend(preds.cpu().numpy())\n",
    "                all_targets.extend(labels.cpu().numpy())\n",
    "            \n",
    "        val_loss = total_loss / len(self.val_loader)\n",
    "        accuracy = accuracy_score(all_targets, all_preds)\n",
    "        precision = precision_score(all_targets, all_preds, average=\"weighted\", zero_division=0)\n",
    "        f1 = f1_score(all_targets, all_preds, average=\"weighted\", zero_division=0)\n",
    "        \n",
    "        self._print_metrics(\"Val\", val_loss, accuracy, precision, f1)\n",
    "        \n",
    "        self.writer.add_scalar(\"Loss/Val\", val_loss, self.epoch)\n",
    "        self.writer.add_scalar(\"Accuracy/Val\", accuracy, self.epoch)\n",
    "        self.writer.add_scalar(\"Precision/Val\", precision, self.epoch)\n",
    "        self.writer.add_scalar(\"F1/Val\", f1, self.epoch)\n",
    "\n",
    "        return val_loss, accuracy\n",
    "\n",
    "    def test_model(self):\n",
    "        self.model.eval()\n",
    "        total_loss = 0.0\n",
    "        all_preds, all_targets = [], []\n",
    "\n",
    "        with torch.no_grad():\n",
    "            for images, labels in tqdm(self.test_loader):\n",
    "                images, labels = images.to(self.device), labels.to(self.device)\n",
    "\n",
    "                outputs = self.model(images)\n",
    "                loss = self.criterion(outputs, labels)\n",
    "                \n",
    "                total_loss += loss.item()\n",
    "\n",
    "                preds = torch.argmax(outputs, dim=1)\n",
    "                all_preds.extend(preds.cpu().numpy())\n",
    "                all_targets.extend(labels.cpu().numpy())\n",
    "                \n",
    "        test_loss = total_loss / len(self.test_loader)\n",
    "        accuracy = accuracy_score(all_targets, all_preds)\n",
    "        precision = precision_score(all_targets, all_preds, average=\"weighted\", zero_division=0)\n",
    "        f1 = f1_score(all_targets, all_preds, average=\"weighted\", zero_division=0)\n",
    "        \n",
    "        self._print_metrics(\"Test\", test_loss, accuracy, precision, f1)\n",
    "\n",
    "        if self.save_weights:\n",
    "            torch.save(self.model.state_dict(), 'densora_gru_weights.pth')\n",
    "\n",
    "        return test_loss, accuracy\n",
    "\n",
    "    def _print_metrics(self, phase: str, loss, accuracy, precision, f1):\n",
    "        if phase == \"Test\":\n",
    "            print(f\"{phase} Loss {self.epoch - 1}: {loss:.4f} | Accuracy: {accuracy:.4f}\")\n",
    "        else:\n",
    "            print(f\"{phase} Loss {self.epoch}: {loss:.4f} | Accuracy: {accuracy:.4f}\")\n",
    "\n",
    "        print(f\"Precision: {precision:.4f}\")\n",
    "        print(f\"F1 score: {f1:.4f}\")"
   ]
  },
  {
   "cell_type": "code",
   "execution_count": 6,
   "id": "9b8b2513-6e23-443e-9c84-2d3e43259605",
   "metadata": {},
   "outputs": [
    {
     "name": "stderr",
     "output_type": "stream",
     "text": [
      "100%|███████████████████████████████████████████████████████████████████████████| 469/469 [00:07<00:00, 64.85it/s]\n"
     ]
    },
    {
     "name": "stdout",
     "output_type": "stream",
     "text": [
      "Train Loss 1: 2.2258 | Accuracy: 0.2043\n",
      "Precision: 0.1293\n",
      "F1 score: 0.1374\n"
     ]
    },
    {
     "name": "stderr",
     "output_type": "stream",
     "text": [
      "100%|██████████████████████████████████████████████████████████████████████████| 157/157 [00:01<00:00, 102.11it/s]\n"
     ]
    },
    {
     "name": "stdout",
     "output_type": "stream",
     "text": [
      "Val Loss 1: 2.1584 | Accuracy: 0.2541\n",
      "Precision: 0.1751\n",
      "F1 score: 0.1802\n"
     ]
    },
    {
     "name": "stderr",
     "output_type": "stream",
     "text": [
      "100%|██████████████████████████████████████████████████████████████████████████| 469/469 [00:04<00:00, 107.88it/s]\n"
     ]
    },
    {
     "name": "stdout",
     "output_type": "stream",
     "text": [
      "Train Loss 2: 2.1258 | Accuracy: 0.2707\n",
      "Precision: 0.1799\n",
      "F1 score: 0.2019\n"
     ]
    },
    {
     "name": "stderr",
     "output_type": "stream",
     "text": [
      "100%|██████████████████████████████████████████████████████████████████████████| 157/157 [00:01<00:00, 127.52it/s]\n"
     ]
    },
    {
     "name": "stdout",
     "output_type": "stream",
     "text": [
      "Val Loss 2: 2.0899 | Accuracy: 0.2861\n",
      "Precision: 0.2207\n",
      "F1 score: 0.2284\n"
     ]
    },
    {
     "name": "stderr",
     "output_type": "stream",
     "text": [
      "100%|███████████████████████████████████████████████████████████████████████████| 469/469 [00:04<00:00, 97.60it/s]\n"
     ]
    },
    {
     "name": "stdout",
     "output_type": "stream",
     "text": [
      "Train Loss 3: 2.0501 | Accuracy: 0.3039\n",
      "Precision: 0.2368\n",
      "F1 score: 0.2559\n"
     ]
    },
    {
     "name": "stderr",
     "output_type": "stream",
     "text": [
      "100%|██████████████████████████████████████████████████████████████████████████| 157/157 [00:01<00:00, 116.62it/s]\n"
     ]
    },
    {
     "name": "stdout",
     "output_type": "stream",
     "text": [
      "Val Loss 3: 2.0206 | Accuracy: 0.3132\n",
      "Precision: 0.2628\n",
      "F1 score: 0.2651\n"
     ]
    },
    {
     "name": "stderr",
     "output_type": "stream",
     "text": [
      "100%|██████████████████████████████████████████████████████████████████████████| 469/469 [00:04<00:00, 101.76it/s]\n"
     ]
    },
    {
     "name": "stdout",
     "output_type": "stream",
     "text": [
      "Train Loss 4: 1.9641 | Accuracy: 0.3293\n",
      "Precision: 0.2881\n",
      "F1 score: 0.3013\n"
     ]
    },
    {
     "name": "stderr",
     "output_type": "stream",
     "text": [
      "100%|██████████████████████████████████████████████████████████████████████████| 157/157 [00:01<00:00, 119.57it/s]\n"
     ]
    },
    {
     "name": "stdout",
     "output_type": "stream",
     "text": [
      "Val Loss 4: 1.9202 | Accuracy: 0.3421\n",
      "Precision: 0.3136\n",
      "F1 score: 0.3161\n"
     ]
    },
    {
     "name": "stderr",
     "output_type": "stream",
     "text": [
      "100%|██████████████████████████████████████████████████████████████████████████| 469/469 [00:04<00:00, 102.90it/s]\n"
     ]
    },
    {
     "name": "stdout",
     "output_type": "stream",
     "text": [
      "Train Loss 5: 1.9062 | Accuracy: 0.3454\n",
      "Precision: 0.3061\n",
      "F1 score: 0.3203\n"
     ]
    },
    {
     "name": "stderr",
     "output_type": "stream",
     "text": [
      "100%|██████████████████████████████████████████████████████████████████████████| 157/157 [00:01<00:00, 121.45it/s]\n"
     ]
    },
    {
     "name": "stdout",
     "output_type": "stream",
     "text": [
      "Val Loss 5: 1.8942 | Accuracy: 0.3400\n",
      "Precision: 0.3217\n",
      "F1 score: 0.3051\n"
     ]
    },
    {
     "name": "stderr",
     "output_type": "stream",
     "text": [
      "100%|██████████████████████████████████████████████████████████████████████████| 469/469 [00:04<00:00, 105.09it/s]\n"
     ]
    },
    {
     "name": "stdout",
     "output_type": "stream",
     "text": [
      "Train Loss 6: 1.8346 | Accuracy: 0.3647\n",
      "Precision: 0.3598\n",
      "F1 score: 0.3554\n"
     ]
    },
    {
     "name": "stderr",
     "output_type": "stream",
     "text": [
      "100%|██████████████████████████████████████████████████████████████████████████| 157/157 [00:01<00:00, 125.95it/s]\n"
     ]
    },
    {
     "name": "stdout",
     "output_type": "stream",
     "text": [
      "Val Loss 6: 1.7956 | Accuracy: 0.3680\n",
      "Precision: 0.3874\n",
      "F1 score: 0.3623\n"
     ]
    },
    {
     "name": "stderr",
     "output_type": "stream",
     "text": [
      "100%|██████████████████████████████████████████████████████████████████████████| 469/469 [00:04<00:00, 104.99it/s]\n"
     ]
    },
    {
     "name": "stdout",
     "output_type": "stream",
     "text": [
      "Train Loss 7: 1.7627 | Accuracy: 0.3864\n",
      "Precision: 0.3813\n",
      "F1 score: 0.3819\n"
     ]
    },
    {
     "name": "stderr",
     "output_type": "stream",
     "text": [
      "100%|██████████████████████████████████████████████████████████████████████████| 157/157 [00:01<00:00, 118.32it/s]\n"
     ]
    },
    {
     "name": "stdout",
     "output_type": "stream",
     "text": [
      "Val Loss 7: 1.7637 | Accuracy: 0.3816\n",
      "Precision: 0.4043\n",
      "F1 score: 0.3740\n"
     ]
    },
    {
     "name": "stderr",
     "output_type": "stream",
     "text": [
      "100%|██████████████████████████████████████████████████████████████████████████| 469/469 [00:04<00:00, 104.56it/s]\n"
     ]
    },
    {
     "name": "stdout",
     "output_type": "stream",
     "text": [
      "Train Loss 8: 1.7338 | Accuracy: 0.3969\n",
      "Precision: 0.3916\n",
      "F1 score: 0.3921\n"
     ]
    },
    {
     "name": "stderr",
     "output_type": "stream",
     "text": [
      "100%|██████████████████████████████████████████████████████████████████████████| 157/157 [00:01<00:00, 120.08it/s]\n"
     ]
    },
    {
     "name": "stdout",
     "output_type": "stream",
     "text": [
      "Val Loss 8: 1.7233 | Accuracy: 0.3992\n",
      "Precision: 0.4021\n",
      "F1 score: 0.3948\n"
     ]
    },
    {
     "name": "stderr",
     "output_type": "stream",
     "text": [
      "100%|██████████████████████████████████████████████████████████████████████████| 469/469 [00:04<00:00, 105.48it/s]\n"
     ]
    },
    {
     "name": "stdout",
     "output_type": "stream",
     "text": [
      "Train Loss 9: 1.7079 | Accuracy: 0.4047\n",
      "Precision: 0.3982\n",
      "F1 score: 0.3994\n"
     ]
    },
    {
     "name": "stderr",
     "output_type": "stream",
     "text": [
      "100%|██████████████████████████████████████████████████████████████████████████| 157/157 [00:01<00:00, 120.85it/s]\n"
     ]
    },
    {
     "name": "stdout",
     "output_type": "stream",
     "text": [
      "Val Loss 9: 1.7074 | Accuracy: 0.4014\n",
      "Precision: 0.4062\n",
      "F1 score: 0.3924\n"
     ]
    },
    {
     "name": "stderr",
     "output_type": "stream",
     "text": [
      "100%|██████████████████████████████████████████████████████████████████████████| 469/469 [00:04<00:00, 104.07it/s]\n"
     ]
    },
    {
     "name": "stdout",
     "output_type": "stream",
     "text": [
      "Train Loss 10: 1.6833 | Accuracy: 0.4122\n",
      "Precision: 0.4058\n",
      "F1 score: 0.4068\n"
     ]
    },
    {
     "name": "stderr",
     "output_type": "stream",
     "text": [
      "100%|██████████████████████████████████████████████████████████████████████████| 157/157 [00:01<00:00, 111.39it/s]\n"
     ]
    },
    {
     "name": "stdout",
     "output_type": "stream",
     "text": [
      "Val Loss 10: 1.7177 | Accuracy: 0.3918\n",
      "Precision: 0.4132\n",
      "F1 score: 0.3814\n"
     ]
    },
    {
     "name": "stderr",
     "output_type": "stream",
     "text": [
      "100%|██████████████████████████████████████████████████████████████████████████| 469/469 [00:04<00:00, 105.94it/s]\n"
     ]
    },
    {
     "name": "stdout",
     "output_type": "stream",
     "text": [
      "Train Loss 11: 1.6513 | Accuracy: 0.4259\n",
      "Precision: 0.4193\n",
      "F1 score: 0.4205\n"
     ]
    },
    {
     "name": "stderr",
     "output_type": "stream",
     "text": [
      "100%|██████████████████████████████████████████████████████████████████████████| 157/157 [00:01<00:00, 115.10it/s]\n"
     ]
    },
    {
     "name": "stdout",
     "output_type": "stream",
     "text": [
      "Val Loss 11: 1.6727 | Accuracy: 0.4161\n",
      "Precision: 0.4185\n",
      "F1 score: 0.4101\n"
     ]
    },
    {
     "name": "stderr",
     "output_type": "stream",
     "text": [
      "100%|██████████████████████████████████████████████████████████████████████████| 469/469 [00:04<00:00, 103.34it/s]\n"
     ]
    },
    {
     "name": "stdout",
     "output_type": "stream",
     "text": [
      "Train Loss 12: 1.6402 | Accuracy: 0.4317\n",
      "Precision: 0.4251\n",
      "F1 score: 0.4262\n"
     ]
    },
    {
     "name": "stderr",
     "output_type": "stream",
     "text": [
      "100%|██████████████████████████████████████████████████████████████████████████| 157/157 [00:01<00:00, 118.00it/s]\n"
     ]
    },
    {
     "name": "stdout",
     "output_type": "stream",
     "text": [
      "Val Loss 12: 1.6631 | Accuracy: 0.4144\n",
      "Precision: 0.4172\n",
      "F1 score: 0.4094\n"
     ]
    },
    {
     "name": "stderr",
     "output_type": "stream",
     "text": [
      "100%|██████████████████████████████████████████████████████████████████████████| 469/469 [00:04<00:00, 101.36it/s]\n"
     ]
    },
    {
     "name": "stdout",
     "output_type": "stream",
     "text": [
      "Train Loss 13: 1.6307 | Accuracy: 0.4318\n",
      "Precision: 0.4248\n",
      "F1 score: 0.4262\n"
     ]
    },
    {
     "name": "stderr",
     "output_type": "stream",
     "text": [
      "100%|██████████████████████████████████████████████████████████████████████████| 157/157 [00:01<00:00, 116.59it/s]\n"
     ]
    },
    {
     "name": "stdout",
     "output_type": "stream",
     "text": [
      "Val Loss 13: 1.6522 | Accuracy: 0.4238\n",
      "Precision: 0.4214\n",
      "F1 score: 0.4197\n"
     ]
    },
    {
     "name": "stderr",
     "output_type": "stream",
     "text": [
      "100%|██████████████████████████████████████████████████████████████████████████| 469/469 [00:04<00:00, 104.15it/s]\n"
     ]
    },
    {
     "name": "stdout",
     "output_type": "stream",
     "text": [
      "Train Loss 14: 1.6203 | Accuracy: 0.4350\n",
      "Precision: 0.4283\n",
      "F1 score: 0.4294\n"
     ]
    },
    {
     "name": "stderr",
     "output_type": "stream",
     "text": [
      "100%|██████████████████████████████████████████████████████████████████████████| 157/157 [00:01<00:00, 116.78it/s]\n"
     ]
    },
    {
     "name": "stdout",
     "output_type": "stream",
     "text": [
      "Val Loss 14: 1.6550 | Accuracy: 0.4243\n",
      "Precision: 0.4360\n",
      "F1 score: 0.4184\n"
     ]
    },
    {
     "name": "stderr",
     "output_type": "stream",
     "text": [
      "100%|██████████████████████████████████████████████████████████████████████████| 469/469 [00:04<00:00, 104.37it/s]\n"
     ]
    },
    {
     "name": "stdout",
     "output_type": "stream",
     "text": [
      "Train Loss 15: 1.6102 | Accuracy: 0.4417\n",
      "Precision: 0.4351\n",
      "F1 score: 0.4363\n"
     ]
    },
    {
     "name": "stderr",
     "output_type": "stream",
     "text": [
      "100%|██████████████████████████████████████████████████████████████████████████| 157/157 [00:01<00:00, 113.56it/s]\n"
     ]
    },
    {
     "name": "stdout",
     "output_type": "stream",
     "text": [
      "Val Loss 15: 1.6479 | Accuracy: 0.4202\n",
      "Precision: 0.4354\n",
      "F1 score: 0.4198\n"
     ]
    },
    {
     "name": "stderr",
     "output_type": "stream",
     "text": [
      "100%|██████████████████████████████████████████████████████████████████████████| 469/469 [00:04<00:00, 103.37it/s]\n"
     ]
    },
    {
     "name": "stdout",
     "output_type": "stream",
     "text": [
      "Train Loss 16: 1.6024 | Accuracy: 0.4439\n",
      "Precision: 0.4367\n",
      "F1 score: 0.4381\n"
     ]
    },
    {
     "name": "stderr",
     "output_type": "stream",
     "text": [
      "100%|██████████████████████████████████████████████████████████████████████████| 157/157 [00:01<00:00, 123.85it/s]\n"
     ]
    },
    {
     "name": "stdout",
     "output_type": "stream",
     "text": [
      "Val Loss 16: 1.6287 | Accuracy: 0.4302\n",
      "Precision: 0.4272\n",
      "F1 score: 0.4251\n"
     ]
    },
    {
     "name": "stderr",
     "output_type": "stream",
     "text": [
      "100%|██████████████████████████████████████████████████████████████████████████| 469/469 [00:04<00:00, 105.22it/s]\n"
     ]
    },
    {
     "name": "stdout",
     "output_type": "stream",
     "text": [
      "Train Loss 17: 1.5934 | Accuracy: 0.4460\n",
      "Precision: 0.4392\n",
      "F1 score: 0.4403\n"
     ]
    },
    {
     "name": "stderr",
     "output_type": "stream",
     "text": [
      "100%|██████████████████████████████████████████████████████████████████████████| 157/157 [00:01<00:00, 123.87it/s]\n"
     ]
    },
    {
     "name": "stdout",
     "output_type": "stream",
     "text": [
      "Val Loss 17: 1.6292 | Accuracy: 0.4294\n",
      "Precision: 0.4363\n",
      "F1 score: 0.4264\n"
     ]
    },
    {
     "name": "stderr",
     "output_type": "stream",
     "text": [
      "100%|██████████████████████████████████████████████████████████████████████████| 469/469 [00:04<00:00, 102.44it/s]\n"
     ]
    },
    {
     "name": "stdout",
     "output_type": "stream",
     "text": [
      "Train Loss 18: 1.5830 | Accuracy: 0.4536\n",
      "Precision: 0.4470\n",
      "F1 score: 0.4482\n"
     ]
    },
    {
     "name": "stderr",
     "output_type": "stream",
     "text": [
      "100%|██████████████████████████████████████████████████████████████████████████| 157/157 [00:01<00:00, 123.28it/s]\n"
     ]
    },
    {
     "name": "stdout",
     "output_type": "stream",
     "text": [
      "Val Loss 18: 1.6279 | Accuracy: 0.4261\n",
      "Precision: 0.4349\n",
      "F1 score: 0.4171\n"
     ]
    },
    {
     "name": "stderr",
     "output_type": "stream",
     "text": [
      "100%|███████████████████████████████████████████████████████████████████████████| 469/469 [00:05<00:00, 92.76it/s]\n"
     ]
    },
    {
     "name": "stdout",
     "output_type": "stream",
     "text": [
      "Train Loss 19: 1.5747 | Accuracy: 0.4543\n",
      "Precision: 0.4476\n",
      "F1 score: 0.4488\n"
     ]
    },
    {
     "name": "stderr",
     "output_type": "stream",
     "text": [
      "100%|██████████████████████████████████████████████████████████████████████████| 157/157 [00:01<00:00, 113.77it/s]\n"
     ]
    },
    {
     "name": "stdout",
     "output_type": "stream",
     "text": [
      "Val Loss 19: 1.6211 | Accuracy: 0.4311\n",
      "Precision: 0.4414\n",
      "F1 score: 0.4272\n"
     ]
    },
    {
     "name": "stderr",
     "output_type": "stream",
     "text": [
      "100%|███████████████████████████████████████████████████████████████████████████| 469/469 [00:04<00:00, 95.70it/s]\n"
     ]
    },
    {
     "name": "stdout",
     "output_type": "stream",
     "text": [
      "Train Loss 20: 1.5675 | Accuracy: 0.4566\n",
      "Precision: 0.4496\n",
      "F1 score: 0.4510\n"
     ]
    },
    {
     "name": "stderr",
     "output_type": "stream",
     "text": [
      "100%|██████████████████████████████████████████████████████████████████████████| 157/157 [00:01<00:00, 103.97it/s]\n"
     ]
    },
    {
     "name": "stdout",
     "output_type": "stream",
     "text": [
      "Val Loss 20: 1.6041 | Accuracy: 0.4379\n",
      "Precision: 0.4340\n",
      "F1 score: 0.4289\n",
      "Final Train Loss: 1.5675, Val Loss: 1.6041\n",
      "Final Train Acc: 0.4566, Val Acc: 0.4379\n"
     ]
    },
    {
     "name": "stderr",
     "output_type": "stream",
     "text": [
      "100%|██████████████████████████████████████████████████████████████████████████| 157/157 [00:01<00:00, 117.56it/s]"
     ]
    },
    {
     "name": "stdout",
     "output_type": "stream",
     "text": [
      "Test Loss 20: 1.5961 | Accuracy: 0.4425\n",
      "Precision: 0.4359\n",
      "F1 score: 0.4324\n",
      "Test Loss: 1.5961, Test Accuracy: 0.4425\n"
     ]
    },
    {
     "name": "stderr",
     "output_type": "stream",
     "text": [
      "\n"
     ]
    }
   ],
   "source": [
    "model = Perceptron()\n",
    "optimizer = optim.SGD(model.parameters(), lr=0.01)\n",
    "criterion = nn.CrossEntropyLoss()\n",
    "device = torch.device(\"cuda\" if torch.cuda.is_available() else \"cpu\")\n",
    "\n",
    "trainer = ModelTrainer(\n",
    "    model=model,\n",
    "    device=device,\n",
    "    optimizer=optimizer,\n",
    "    criterion=criterion,\n",
    "    train_loader=train_loader,\n",
    "    val_loader=val_loader,\n",
    "    test_loader=test_loader,\n",
    "    epochs=20,   \n",
    "    save_weights=False\n",
    ")\n",
    "\n",
    "train_loss, val_loss, train_acc, val_acc = trainer.process_model()\n",
    "print(f\"Final Train Loss: {train_loss:.4f}, Val Loss: {val_loss:.4f}\")\n",
    "print(f\"Final Train Acc: {train_acc:.4f}, Val Acc: {val_acc:.4f}\")\n",
    "\n",
    "test_loss, test_acc = trainer.test_model()\n",
    "print(f\"Test Loss: {test_loss:.4f}, Test Accuracy: {test_acc:.4f}\")"
   ]
  },
  {
   "cell_type": "code",
   "execution_count": null,
   "id": "a7967a08-51b3-4c2a-993d-43c48121a525",
   "metadata": {},
   "outputs": [],
   "source": []
  }
 ],
 "metadata": {
  "kernelspec": {
   "display_name": "Python 3 (ipykernel)",
   "language": "python",
   "name": "python3"
  },
  "language_info": {
   "codemirror_mode": {
    "name": "ipython",
    "version": 3
   },
   "file_extension": ".py",
   "mimetype": "text/x-python",
   "name": "python",
   "nbconvert_exporter": "python",
   "pygments_lexer": "ipython3",
   "version": "3.12.6"
  }
 },
 "nbformat": 4,
 "nbformat_minor": 5
}
