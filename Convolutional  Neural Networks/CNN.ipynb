{
  "nbformat": 4,
  "nbformat_minor": 0,
  "metadata": {
    "colab": {
      "provenance": []
    },
    "kernelspec": {
      "name": "python3",
      "display_name": "Python 3"
    },
    "language_info": {
      "name": "python"
    }
  },
  "cells": [
    {
      "cell_type": "markdown",
      "source": [
        "# Свёрточные нейросети"
      ],
      "metadata": {
        "id": "CiNfdddppyrv"
      }
    },
    {
      "cell_type": "code",
      "execution_count": null,
      "metadata": {
        "id": "EIPXt_ydpt38"
      },
      "outputs": [],
      "source": [
        "import torch\n",
        "from torchvision import transforms, datasets\n",
        "from torch.utils.data import DataLoader\n",
        "import torch.nn as nn\n",
        "import torch.optim as optim\n",
        "import torch.nn.functional as F"
      ]
    },
    {
      "cell_type": "markdown",
      "source": [
        "### 1) Подготока датасета"
      ],
      "metadata": {
        "id": "Ve2ybXBqp-4X"
      }
    },
    {
      "cell_type": "code",
      "source": [
        "transform = transforms.Compose([\n",
        "    transforms.RandomHorizontalFlip(p=0.5),\n",
        "    transforms.RandomAffine(degrees=10, translate=(0.1, 0.1), scale=(0.9, 1.1), shear=5),\n",
        "    transforms.ToTensor(),\n",
        "    transforms.Normalize((0.1,), (0.1,))\n",
        "])\n",
        "\n",
        "train_dataset = datasets.MNIST(root=\"./data\", train=True, download=True, transform=transform)\n",
        "test_dataset = datasets.MNIST(root=\"./data\", train=False, download=True, transform=transform)\n",
        "\n",
        "train_loader = DataLoader(train_dataset, batch_size=128, shuffle=True, num_workers=4)\n",
        "test_loader = DataLoader(test_dataset, batch_size=128, num_workers=4)"
      ],
      "metadata": {
        "id": "mxkBkuwIqB_n"
      },
      "execution_count": null,
      "outputs": []
    },
    {
      "cell_type": "markdown",
      "source": [
        "### 2) Создание нейронной сети"
      ],
      "metadata": {
        "id": "vqmIMGpKu4xR"
      }
    },
    {
      "cell_type": "code",
      "source": [
        "class CNN(nn.Module):\n",
        "    def __init__(self):\n",
        "        super(CNN, self).__init__()\n",
        "        self.conv1 = nn.Conv2d(1, 32, kernel_size=3, padding=1)\n",
        "        self.relu1 = nn.ReLU()\n",
        "        self.conv2 = nn.Conv2d(32, 64, kernel_size=3, padding=1)\n",
        "        self.relu2 = nn.ReLU()\n",
        "        self.pool = nn.MaxPool2d(kernel_size=2, stride=2)\n",
        "        self.dropout = nn.Dropout(0.5)\n",
        "        self.fc1 = nn.Linear(64 * 7 * 7, 128)\n",
        "        self.relu3 = nn.ReLU()\n",
        "        self.fc2 = nn.Linear(128, 10)\n",
        "\n",
        "    def forward(self, x):\n",
        "        x = self.pool(self.relu1(self.conv1(x)))\n",
        "        x = self.pool(self.relu2(self.conv2(x)))\n",
        "        x = x.view(-1, 64 * 7 * 7)\n",
        "        x = self.dropout(self.relu3(self.fc1(x)))\n",
        "        x = self.fc2(x)\n",
        "        return x\n",
        "\n",
        "device = torch.device('cuda' if torch.cuda.is_available() else 'cpu')\n",
        "model = CNN().to(device)\n",
        "criterion = nn.CrossEntropyLoss()\n",
        "optimizer = optim.Adam(model.parameters(), lr=0.001)"
      ],
      "metadata": {
        "id": "HEzLDOpuu3Ha"
      },
      "execution_count": null,
      "outputs": []
    },
    {
      "cell_type": "markdown",
      "source": [
        "### 3) Тестирование модели"
      ],
      "metadata": {
        "id": "YKVnYik0xXhV"
      }
    },
    {
      "cell_type": "code",
      "source": [
        "def evaluate(model, loader, device):\n",
        "  model.eval()\n",
        "  correct = 0\n",
        "  total = 0\n",
        "  with torch.no_grad():\n",
        "    for images, labels in loader:\n",
        "      images, labels = images.to(device), labels.to(device)\n",
        "      outputs = model(images)\n",
        "      _, predicted = torch.max(outputs, 1)\n",
        "      total += labels.size(0)\n",
        "      correct += (predicted == labels).sum().item()\n",
        "  return correct / total"
      ],
      "metadata": {
        "id": "mcQ0a5A6xg4l"
      },
      "execution_count": null,
      "outputs": []
    },
    {
      "cell_type": "markdown",
      "source": [
        "### 4) Ранняя остановка"
      ],
      "metadata": {
        "id": "RrTJJPmyy_U3"
      }
    },
    {
      "cell_type": "code",
      "source": [
        "class EarlyStopping:\n",
        "  def __init__(self, patience=5, min_delta=0):\n",
        "    self.patience = patience\n",
        "    self.min_delta = min_delta\n",
        "    self.best_loss = None\n",
        "    self.counter = 0\n",
        "\n",
        "  def should_stop(self, val_loss):\n",
        "    if self.best_loss is None or val_loss < self.best_loss - self.min_delta:\n",
        "      self.best_loss = val_loss\n",
        "      self.counter = 0\n",
        "    else:\n",
        "      self.counter += 1\n",
        "      if self.counter >= self.patience:\n",
        "        return True\n",
        "    return False"
      ],
      "metadata": {
        "id": "TEiio8P4zDln"
      },
      "execution_count": null,
      "outputs": []
    },
    {
      "cell_type": "markdown",
      "source": [
        "### 5) ModelCheckpoint"
      ],
      "metadata": {
        "id": "XRq4cNwHz3v8"
      }
    },
    {
      "cell_type": "code",
      "source": [
        "class ModelCheckpoint:\n",
        "  def __init__(self, filepath, monitor=\"val_loss\", mode=\"min\", verbose=True):\n",
        "    self.filepath = filepath\n",
        "    self.monitor = monitor\n",
        "    self.mode = mode\n",
        "    self.best_score = None\n",
        "    self.verbose = verbose\n",
        "\n",
        "  def save_checkpoint(self, model, epoch, val_score):\n",
        "        if self.best_score is None or (\n",
        "            self.mode == 'min' and val_score < self.best_score or\n",
        "            self.mode == 'max' and val_score > self.best_score\n",
        "        ):\n",
        "            self.best_score = val_score\n",
        "            torch.save(model.state_dict(), self.filepath)\n",
        "            if self.verbose:\n",
        "                print(f\"✅ Модель сохранена на эпохе {epoch+1} с {self.monitor}: {val_score:.4f}\")\n"
      ],
      "metadata": {
        "id": "9YNxEdWUz8Qm"
      },
      "execution_count": null,
      "outputs": []
    },
    {
      "cell_type": "markdown",
      "source": [
        "### 6) Тренировка и тестирование модели"
      ],
      "metadata": {
        "id": "gfffBPzZ0fTC"
      }
    },
    {
      "cell_type": "code",
      "source": [
        "device = torch.device('cuda' if torch.cuda.is_available() else 'cpu')\n",
        "early_stopping = EarlyStopping(patience=5)\n",
        "checkpoint = ModelCheckpoint(filepath='best_model.pth', monitor='val_loss', mode='min', verbose=True)\n",
        "\n",
        "for epoch in range(20):\n",
        "  model.train()\n",
        "  running_loss = 0.0\n",
        "  for images, labels in train_loader:\n",
        "    images, labels = images.to(device), labels.to(device)\n",
        "\n",
        "    outputs = model(images)\n",
        "    loss = criterion(outputs, labels)\n",
        "\n",
        "    optimizer.zero_grad()\n",
        "    loss.backward()\n",
        "    optimizer.step()\n",
        "\n",
        "    running_loss += loss.item()\n",
        "  avg_train_loss = running_loss / len(train_loader)\n",
        "  val_accuracy = evaluate(model, test_loader, device)\n",
        "\n",
        "  print(f\"Эпоха [{epoch+1}/{50}], Потери: {avg_train_loss:.4f}, Точность на валидации: {val_accuracy:.4f}\")\n",
        "\n",
        "  checkpoint.save_checkpoint(model, epoch, avg_train_loss)\n",
        "\n",
        "  if early_stopping.should_stop(avg_train_loss):\n",
        "    print(\"Ранняя остановка сработала.\")\n",
        "    break\n",
        "\n",
        "model.load_state_dict(torch.load('best_model.pth'))\n",
        "\n",
        "test_accuracy = evaluate(model, test_loader, device)\n",
        "print(f\"Точность на тесте: {test_accuracy:.4f}\")"
      ],
      "metadata": {
        "colab": {
          "base_uri": "https://localhost:8080/"
        },
        "id": "PQBT-YYg0lz5",
        "outputId": "4718f9d9-c0af-402b-de73-365a8e1e370a"
      },
      "execution_count": null,
      "outputs": [
        {
          "output_type": "stream",
          "name": "stdout",
          "text": [
            "Эпоха [1/50], Потери: 0.6568, Точность на валидации: 0.9311\n",
            "✅ Модель сохранена на эпохе 1 с val_loss: 0.6568\n",
            "Эпоха [2/50], Потери: 0.3177, Точность на валидации: 0.9518\n",
            "✅ Модель сохранена на эпохе 2 с val_loss: 0.3177\n",
            "Эпоха [3/50], Потери: 0.2573, Точность на валидации: 0.9597\n",
            "✅ Модель сохранена на эпохе 3 с val_loss: 0.2573\n",
            "Эпоха [4/50], Потери: 0.2274, Точность на валидации: 0.9672\n",
            "✅ Модель сохранена на эпохе 4 с val_loss: 0.2274\n",
            "Эпоха [5/50], Потери: 0.2086, Точность на валидации: 0.9676\n",
            "✅ Модель сохранена на эпохе 5 с val_loss: 0.2086\n",
            "Эпоха [6/50], Потери: 0.1893, Точность на валидации: 0.9685\n",
            "✅ Модель сохранена на эпохе 6 с val_loss: 0.1893\n",
            "Эпоха [7/50], Потери: 0.1819, Точность на валидации: 0.9702\n",
            "✅ Модель сохранена на эпохе 7 с val_loss: 0.1819\n",
            "Эпоха [8/50], Потери: 0.1708, Точность на валидации: 0.9721\n",
            "✅ Модель сохранена на эпохе 8 с val_loss: 0.1708\n",
            "Эпоха [9/50], Потери: 0.1658, Точность на валидации: 0.9710\n",
            "✅ Модель сохранена на эпохе 9 с val_loss: 0.1658\n",
            "Эпоха [10/50], Потери: 0.1553, Точность на валидации: 0.9721\n",
            "✅ Модель сохранена на эпохе 10 с val_loss: 0.1553\n",
            "Эпоха [11/50], Потери: 0.1562, Точность на валидации: 0.9752\n",
            "Эпоха [12/50], Потери: 0.1507, Точность на валидации: 0.9744\n",
            "✅ Модель сохранена на эпохе 12 с val_loss: 0.1507\n",
            "Эпоха [13/50], Потери: 0.1427, Точность на валидации: 0.9756\n",
            "✅ Модель сохранена на эпохе 13 с val_loss: 0.1427\n",
            "Эпоха [14/50], Потери: 0.1414, Точность на валидации: 0.9760\n",
            "✅ Модель сохранена на эпохе 14 с val_loss: 0.1414\n",
            "Эпоха [15/50], Потери: 0.1385, Точность на валидации: 0.9760\n",
            "✅ Модель сохранена на эпохе 15 с val_loss: 0.1385\n",
            "Эпоха [16/50], Потери: 0.1361, Точность на валидации: 0.9787\n",
            "✅ Модель сохранена на эпохе 16 с val_loss: 0.1361\n",
            "Эпоха [17/50], Потери: 0.1331, Точность на валидации: 0.9763\n",
            "✅ Модель сохранена на эпохе 17 с val_loss: 0.1331\n",
            "Эпоха [18/50], Потери: 0.1305, Точность на валидации: 0.9766\n",
            "✅ Модель сохранена на эпохе 18 с val_loss: 0.1305\n",
            "Эпоха [19/50], Потери: 0.1322, Точность на валидации: 0.9786\n",
            "Эпоха [20/50], Потери: 0.1273, Точность на валидации: 0.9789\n",
            "✅ Модель сохранена на эпохе 20 с val_loss: 0.1273\n",
            "Точность на тесте: 0.9786\n"
          ]
        }
      ]
    }
  ]
}