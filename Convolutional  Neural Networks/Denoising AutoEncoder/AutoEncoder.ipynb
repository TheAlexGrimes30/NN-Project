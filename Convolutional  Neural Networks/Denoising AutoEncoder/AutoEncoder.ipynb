{
  "nbformat": 4,
  "nbformat_minor": 0,
  "metadata": {
    "colab": {
      "provenance": []
    },
    "kernelspec": {
      "name": "python3",
      "display_name": "Python 3"
    },
    "language_info": {
      "name": "python"
    }
  },
  "cells": [
    {
      "cell_type": "markdown",
      "source": [
        "# Шумоподавляющий Автоэнкодер"
      ],
      "metadata": {
        "id": "k58j1MOATcaj"
      }
    },
    {
      "cell_type": "code",
      "execution_count": 3,
      "metadata": {
        "id": "POv9FElKTXMB"
      },
      "outputs": [],
      "source": [
        "import torch\n",
        "import torch.nn as nn\n",
        "import torch.optim as optim\n",
        "import torchvision.transforms as transforms\n",
        "from torchvision.datasets import MNIST\n",
        "from torch.utils.data import random_split, DataLoader\n",
        "from tqdm import tqdm\n",
        "import matplotlib.pyplot as plt\n",
        "import torch.nn.functional as F"
      ]
    },
    {
      "cell_type": "code",
      "source": [
        "transform = transforms.Compose([\n",
        "    transforms.Resize(32),\n",
        "    transforms.ToTensor()\n",
        "])\n",
        "\n",
        "dataset = MNIST(root='./data', train=True, download=True, transform=transform)\n",
        "\n",
        "train_size = int(len(dataset) * 0.6)\n",
        "val_size = int(len(dataset) * 0.2)\n",
        "test_size = len(dataset) - (val_size + train_size)\n",
        "\n",
        "generator = torch.Generator().manual_seed(42)\n",
        "\n",
        "train_dataset, val_dataset, test_dataset = random_split(dataset, [train_size, val_size, test_size], generator=generator)\n",
        "\n",
        "train_loader = DataLoader(train_dataset, batch_size=64, shuffle=True, num_workers=8)\n",
        "val_loader = DataLoader(val_dataset, batch_size=64, shuffle=False, num_workers=8)\n",
        "test_loader = DataLoader(test_dataset, batch_size=64, shuffle=False, num_workers=8)"
      ],
      "metadata": {
        "id": "WMHpaGHZUBKx",
        "colab": {
          "base_uri": "https://localhost:8080/"
        },
        "outputId": "1a4d6aa9-f9c9-4844-cf4d-b6aa4f49f557"
      },
      "execution_count": 2,
      "outputs": [
        {
          "output_type": "stream",
          "name": "stderr",
          "text": [
            "100%|██████████| 9.91M/9.91M [00:00<00:00, 11.8MB/s]\n",
            "100%|██████████| 28.9k/28.9k [00:00<00:00, 342kB/s]\n",
            "100%|██████████| 1.65M/1.65M [00:00<00:00, 2.73MB/s]\n",
            "100%|██████████| 4.54k/4.54k [00:00<00:00, 4.47MB/s]\n",
            "/usr/local/lib/python3.11/dist-packages/torch/utils/data/dataloader.py:624: UserWarning: This DataLoader will create 8 worker processes in total. Our suggested max number of worker in current system is 2, which is smaller than what this DataLoader is going to create. Please be aware that excessive worker creation might get DataLoader running slow or even freeze, lower the worker number to avoid potential slowness/freeze if necessary.\n",
            "  warnings.warn(\n"
          ]
        }
      ]
    },
    {
      "cell_type": "code",
      "source": [
        "class Encoder(nn.Module):\n",
        "    def __init__(self, channels, ch=32, z=32):\n",
        "        super(Encoder, self).__init__()\n",
        "\n",
        "        self.conv1 = nn.Conv2d(channels, ch, kernel_size=4, stride=2, padding=1)\n",
        "        self.bn1 = nn.BatchNorm2d(ch)\n",
        "\n",
        "        self.conv2 = nn.Conv2d(ch, ch * 2, kernel_size=4, stride=2, padding=1)\n",
        "        self.bn2 = nn.BatchNorm2d(ch * 2)\n",
        "\n",
        "        self.conv3 = nn.Conv2d(ch * 2, ch * 4, kernel_size=4, stride=2, padding=1)\n",
        "        self.bn3 = nn.BatchNorm2d(ch * 4)\n",
        "\n",
        "        self.conv_out = nn.Conv2d(ch * 4, z, kernel_size=4, stride=1)\n",
        "\n",
        "    def forward(self, x):\n",
        "        x = F.relu(self.bn1(self.conv1(x)))\n",
        "        x = F.relu(self.bn2(self.conv2(x)))\n",
        "        x = F.relu(self.bn3(self.conv3(x)))\n",
        "        x = self.conv_out(x)\n",
        "        return x\n",
        "\n",
        "class Decoder(nn.Module):\n",
        "    def __init__(self, channels, ch=32, z=32):\n",
        "        super(Decoder, self).__init__()\n",
        "\n",
        "        self.conv1 = nn.ConvTranspose2d(z, ch * 4, kernel_size=4, stride=1)\n",
        "        self.bn1 = nn.BatchNorm2d(ch * 4)\n",
        "\n",
        "        self.conv2 = nn.ConvTranspose2d(ch * 4, ch * 2, kernel_size=4, stride=2, padding=1)\n",
        "        self.bn2 = nn.BatchNorm2d(ch * 2)\n",
        "\n",
        "        self.conv3 = nn.ConvTranspose2d(ch * 2, ch, kernel_size=4, stride=2, padding=1)\n",
        "        self.bn3 = nn.BatchNorm2d(ch)\n",
        "\n",
        "        self.conv4 = nn.ConvTranspose2d(ch, channels, kernel_size=4, stride=2, padding=1)\n",
        "\n",
        "    def forward(self, x):\n",
        "        x = F.relu(self.bn1(self.conv1(x)))\n",
        "        x = F.relu(self.bn2(self.conv2(x)))\n",
        "        x = F.relu(self.bn3(self.conv3(x)))\n",
        "        x = torch.tanh(self.conv4(x))\n",
        "        return x\n",
        "\n",
        "class AE(nn.Module):\n",
        "    def __init__(self, channel_in, ch=32, z=32):\n",
        "        super(AE, self).__init__()\n",
        "        self.encoder = Encoder(channel_in, ch, z)\n",
        "        self.decoder = Decoder(channel_in, ch, z)\n",
        "\n",
        "    def forward(self, x):\n",
        "        encoding = self.encoder(x)\n",
        "        x = self.decoder(encoding)\n",
        "        return x, encoding"
      ],
      "metadata": {
        "id": "07IuByoXU8XG"
      },
      "execution_count": 4,
      "outputs": []
    },
    {
      "cell_type": "code",
      "source": [
        "def add_noise(images, noise_factor=0.2):\n",
        "  noisy = images + noise_factor * torch.randn_like(images)\n",
        "  noisy = torch.clamp(noisy, -1., 1.)\n",
        "  return noisy"
      ],
      "metadata": {
        "id": "w5VeErlGW9kr"
      },
      "execution_count": 5,
      "outputs": []
    },
    {
      "cell_type": "code",
      "source": [
        "epochs = 20\n",
        "device = torch.device(\"cuda\" if torch.cuda.is_available() else \"cpu\")\n",
        "model = AE(channel_in=1).to(device)\n",
        "optimizer = optim.Adam(model.parameters(), lr=0.001)\n",
        "criterion = nn.MSELoss()\n",
        "\n",
        "patience = 3\n",
        "best_val_loss = float(\"inf\")\n",
        "patience_counter = 0\n",
        "model_path = \"best_ae_model.pth\"\n",
        "\n",
        "def dice_coeff(pred, target):\n",
        "    smooth = 1\n",
        "    pred_flat = pred.view(-1)\n",
        "    target_flat = target.view(-1)\n",
        "    intersection = (pred_flat * target_flat).sum()\n",
        "    return (2 * intersection + smooth) / (pred_flat.sum() + target_flat.sum() + smooth)\n",
        "\n",
        "def iou_score(pred, target):\n",
        "    smooth = 1\n",
        "    pred_flat = pred.view(-1)\n",
        "    target_flat = target.view(-1)\n",
        "    intersection = (pred_flat * target_flat).sum()\n",
        "    union = pred_flat.sum() + target_flat.sum() - intersection\n",
        "    return (intersection + smooth) / (union + smooth)\n",
        "\n",
        "for epoch in range(epochs):\n",
        "    model.train()\n",
        "    running_loss = 0.0\n",
        "    running_dice = 0.0\n",
        "    running_iou = 0.0\n",
        "\n",
        "    for clean_images, _ in tqdm(train_loader, desc=f\"Epoch {epoch+1}/{epochs}\"):\n",
        "        clean_images = clean_images.to(device)\n",
        "        noisy_images = add_noise(clean_images)\n",
        "\n",
        "        optimizer.zero_grad()\n",
        "        outputs, _ = model(noisy_images)\n",
        "\n",
        "        loss = criterion(outputs, clean_images)\n",
        "        loss.backward()\n",
        "        optimizer.step()\n",
        "\n",
        "        running_loss += loss.item()\n",
        "\n",
        "        outputs_bin = (outputs > 0.5).float()\n",
        "        clean_bin = (clean_images > 0.5).float()\n",
        "\n",
        "        running_dice += dice_coeff(outputs_bin, clean_bin)\n",
        "        running_iou += iou_score(outputs_bin, clean_bin)\n",
        "\n",
        "    train_loss = running_loss / len(train_loader)\n",
        "    train_dice = running_dice / len(train_loader)\n",
        "    train_iou = running_iou / len(train_loader)\n",
        "\n",
        "    model.eval()\n",
        "    val_loss = 0.0\n",
        "    val_dice = 0.0\n",
        "    val_iou = 0.0\n",
        "\n",
        "    with torch.no_grad():\n",
        "        for clean_images, _ in val_loader:\n",
        "            clean_images = clean_images.to(device)\n",
        "            noisy_images = add_noise(clean_images)\n",
        "            outputs, _ = model(noisy_images)\n",
        "\n",
        "            val_loss += criterion(outputs, clean_images).item()\n",
        "\n",
        "            outputs_bin = (outputs > 0.5).float()\n",
        "            clean_bin = (clean_images > 0.5).float()\n",
        "\n",
        "            val_dice += dice_coeff(outputs_bin, clean_bin)\n",
        "            val_iou += iou_score(outputs_bin, clean_bin)\n",
        "\n",
        "    val_loss /= len(val_loader)\n",
        "    val_dice /= len(val_loader)\n",
        "    val_iou /= len(val_loader)\n",
        "\n",
        "    print(f\"\\nEpoch {epoch+1}/{epochs}\")\n",
        "    print(f\"Train Loss: {train_loss:.4f} | Dice: {train_dice:.4f} | IoU: {train_iou:.4f}\")\n",
        "    print(f\"Val   Loss: {val_loss:.4f} | Dice: {val_dice:.4f} | IoU: {val_iou:.4f}\")\n",
        "\n",
        "    if val_loss < best_val_loss:\n",
        "        best_val_loss = val_loss\n",
        "        patience_counter = 0\n",
        "        torch.save(model.state_dict(), model_path)\n",
        "        print(f\"✔ Model improved. Saved to {model_path}\")\n",
        "    else:\n",
        "        patience_counter += 1\n",
        "        if patience_counter >= patience:\n",
        "            print(\"⏹ Early stopping triggered!\")\n",
        "            break\n",
        "\n",
        "model.load_state_dict(torch.load(model_path))\n",
        "model.to(device)\n",
        "print(f\"✅ Best model loaded from {model_path}\")\n",
        "\n",
        "model.eval()\n",
        "test_loss = 0.0\n",
        "test_dice = 0.0\n",
        "test_iou = 0.0\n",
        "\n",
        "with torch.no_grad():\n",
        "    for clean_images, _ in test_loader:\n",
        "        clean_images = clean_images.to(device)\n",
        "        noisy_images = add_noise(clean_images)\n",
        "        outputs, _ = model(noisy_images)\n",
        "\n",
        "        test_loss += criterion(outputs, clean_images).item()\n",
        "        outputs_bin = (outputs > 0.5).float()\n",
        "        clean_bin = (clean_images > 0.5).float()\n",
        "\n",
        "        test_dice += dice_coeff(outputs_bin, clean_bin)\n",
        "        test_iou += iou_score(outputs_bin, clean_bin)\n",
        "\n",
        "test_loss /= len(test_loader)\n",
        "test_dice /= len(test_loader)\n",
        "test_iou /= len(test_loader)\n",
        "\n",
        "print(\"\\nTest Results:\")\n",
        "print(f\"Test Loss: {test_loss:.4f}\")\n",
        "print(f\"Dice Coefficient: {test_dice:.4f}\")\n",
        "print(f\"IoU Score: {test_iou:.4f}\")\n",
        "\n",
        "def plot_results(model, test_loader, device, num_images=1):\n",
        "    model.eval()\n",
        "    with torch.no_grad():\n",
        "        data = next(iter(test_loader))\n",
        "        clean_images, _ = data\n",
        "        clean_images = clean_images[:num_images].to(device)\n",
        "        noisy_images = add_noise(clean_images)\n",
        "        outputs, _ = model(noisy_images)\n",
        "\n",
        "        plt.figure(figsize=(15, 5))\n",
        "        for i in range(num_images):\n",
        "            plt.subplot(3, num_images, i+1)\n",
        "            plt.imshow(clean_images[i].cpu().squeeze(), cmap='gray')\n",
        "            plt.title(\"Original\")\n",
        "            plt.axis('off')\n",
        "\n",
        "            plt.subplot(3, num_images, num_images+i+1)\n",
        "            plt.imshow(noisy_images[i].cpu().squeeze(), cmap='gray')\n",
        "            plt.title(\"Noisy\")\n",
        "            plt.axis('off')\n",
        "\n",
        "            plt.subplot(3, num_images, 2*num_images+i+1)\n",
        "            plt.imshow(outputs[i].cpu().squeeze(), cmap='gray')\n",
        "            plt.title(\"Reconstructed\")\n",
        "            plt.axis('off')\n",
        "\n",
        "        plt.tight_layout()\n",
        "        plt.show()\n",
        "\n",
        "plot_results(model, test_loader, device)"
      ],
      "metadata": {
        "colab": {
          "base_uri": "https://localhost:8080/",
          "height": 1000
        },
        "id": "cXDaPupCXXew",
        "outputId": "40c3f5e0-f441-453f-e613-cbc9c2418af5"
      },
      "execution_count": 6,
      "outputs": [
        {
          "output_type": "stream",
          "name": "stderr",
          "text": [
            "\rEpoch 1/20:   0%|          | 0/563 [00:00<?, ?it/s]/usr/local/lib/python3.11/dist-packages/torch/utils/data/dataloader.py:624: UserWarning: This DataLoader will create 8 worker processes in total. Our suggested max number of worker in current system is 2, which is smaller than what this DataLoader is going to create. Please be aware that excessive worker creation might get DataLoader running slow or even freeze, lower the worker number to avoid potential slowness/freeze if necessary.\n",
            "  warnings.warn(\n",
            "Epoch 1/20: 100%|██████████| 563/563 [01:37<00:00,  5.80it/s]\n"
          ]
        },
        {
          "output_type": "stream",
          "name": "stdout",
          "text": [
            "\n",
            "Epoch 1/20\n",
            "Train Loss: 0.0243 | Dice: 0.7565 | IoU: 0.6340\n",
            "Val   Loss: 0.0084 | Dice: 0.8838 | IoU: 0.7919\n",
            "✔ Model improved. Saved to best_ae_model.pth\n"
          ]
        },
        {
          "output_type": "stream",
          "name": "stderr",
          "text": [
            "Epoch 2/20: 100%|██████████| 563/563 [01:31<00:00,  6.12it/s]\n"
          ]
        },
        {
          "output_type": "stream",
          "name": "stdout",
          "text": [
            "\n",
            "Epoch 2/20\n",
            "Train Loss: 0.0071 | Dice: 0.8958 | IoU: 0.8113\n",
            "Val   Loss: 0.0061 | Dice: 0.9032 | IoU: 0.8235\n",
            "✔ Model improved. Saved to best_ae_model.pth\n"
          ]
        },
        {
          "output_type": "stream",
          "name": "stderr",
          "text": [
            "Epoch 3/20: 100%|██████████| 563/563 [01:31<00:00,  6.15it/s]\n"
          ]
        },
        {
          "output_type": "stream",
          "name": "stdout",
          "text": [
            "\n",
            "Epoch 3/20\n",
            "Train Loss: 0.0056 | Dice: 0.9079 | IoU: 0.8314\n",
            "Val   Loss: 0.0051 | Dice: 0.9120 | IoU: 0.8383\n",
            "✔ Model improved. Saved to best_ae_model.pth\n"
          ]
        },
        {
          "output_type": "stream",
          "name": "stderr",
          "text": [
            "Epoch 4/20: 100%|██████████| 563/563 [01:32<00:00,  6.06it/s]\n"
          ]
        },
        {
          "output_type": "stream",
          "name": "stdout",
          "text": [
            "\n",
            "Epoch 4/20\n",
            "Train Loss: 0.0049 | Dice: 0.9139 | IoU: 0.8414\n",
            "Val   Loss: 0.0049 | Dice: 0.9124 | IoU: 0.8390\n",
            "✔ Model improved. Saved to best_ae_model.pth\n"
          ]
        },
        {
          "output_type": "stream",
          "name": "stderr",
          "text": [
            "Epoch 5/20: 100%|██████████| 563/563 [01:32<00:00,  6.06it/s]\n"
          ]
        },
        {
          "output_type": "stream",
          "name": "stdout",
          "text": [
            "\n",
            "Epoch 5/20\n",
            "Train Loss: 0.0045 | Dice: 0.9176 | IoU: 0.8477\n",
            "Val   Loss: 0.0043 | Dice: 0.9192 | IoU: 0.8504\n",
            "✔ Model improved. Saved to best_ae_model.pth\n"
          ]
        },
        {
          "output_type": "stream",
          "name": "stderr",
          "text": [
            "Epoch 6/20: 100%|██████████| 563/563 [01:32<00:00,  6.10it/s]\n"
          ]
        },
        {
          "output_type": "stream",
          "name": "stdout",
          "text": [
            "\n",
            "Epoch 6/20\n",
            "Train Loss: 0.0043 | Dice: 0.9196 | IoU: 0.8512\n",
            "Val   Loss: 0.0040 | Dice: 0.9217 | IoU: 0.8548\n",
            "✔ Model improved. Saved to best_ae_model.pth\n"
          ]
        },
        {
          "output_type": "stream",
          "name": "stderr",
          "text": [
            "Epoch 7/20: 100%|██████████| 563/563 [01:32<00:00,  6.07it/s]\n"
          ]
        },
        {
          "output_type": "stream",
          "name": "stdout",
          "text": [
            "\n",
            "Epoch 7/20\n",
            "Train Loss: 0.0041 | Dice: 0.9216 | IoU: 0.8547\n",
            "Val   Loss: 0.0038 | Dice: 0.9230 | IoU: 0.8571\n",
            "✔ Model improved. Saved to best_ae_model.pth\n"
          ]
        },
        {
          "output_type": "stream",
          "name": "stderr",
          "text": [
            "Epoch 8/20: 100%|██████████| 563/563 [01:31<00:00,  6.14it/s]\n"
          ]
        },
        {
          "output_type": "stream",
          "name": "stdout",
          "text": [
            "\n",
            "Epoch 8/20\n",
            "Train Loss: 0.0039 | Dice: 0.9235 | IoU: 0.8579\n",
            "Val   Loss: 0.0038 | Dice: 0.9245 | IoU: 0.8597\n",
            "✔ Model improved. Saved to best_ae_model.pth\n"
          ]
        },
        {
          "output_type": "stream",
          "name": "stderr",
          "text": [
            "Epoch 9/20: 100%|██████████| 563/563 [01:32<00:00,  6.09it/s]\n"
          ]
        },
        {
          "output_type": "stream",
          "name": "stdout",
          "text": [
            "\n",
            "Epoch 9/20\n",
            "Train Loss: 0.0038 | Dice: 0.9245 | IoU: 0.8596\n",
            "Val   Loss: 0.0037 | Dice: 0.9246 | IoU: 0.8599\n",
            "✔ Model improved. Saved to best_ae_model.pth\n"
          ]
        },
        {
          "output_type": "stream",
          "name": "stderr",
          "text": [
            "Epoch 10/20: 100%|██████████| 563/563 [01:31<00:00,  6.17it/s]\n"
          ]
        },
        {
          "output_type": "stream",
          "name": "stdout",
          "text": [
            "\n",
            "Epoch 10/20\n",
            "Train Loss: 0.0037 | Dice: 0.9253 | IoU: 0.8611\n",
            "Val   Loss: 0.0037 | Dice: 0.9251 | IoU: 0.8606\n"
          ]
        },
        {
          "output_type": "stream",
          "name": "stderr",
          "text": [
            "Epoch 11/20: 100%|██████████| 563/563 [01:31<00:00,  6.15it/s]\n"
          ]
        },
        {
          "output_type": "stream",
          "name": "stdout",
          "text": [
            "\n",
            "Epoch 11/20\n",
            "Train Loss: 0.0035 | Dice: 0.9266 | IoU: 0.8632\n",
            "Val   Loss: 0.0034 | Dice: 0.9277 | IoU: 0.8652\n",
            "✔ Model improved. Saved to best_ae_model.pth\n"
          ]
        },
        {
          "output_type": "stream",
          "name": "stderr",
          "text": [
            "Epoch 12/20: 100%|██████████| 563/563 [01:32<00:00,  6.09it/s]\n"
          ]
        },
        {
          "output_type": "stream",
          "name": "stdout",
          "text": [
            "\n",
            "Epoch 12/20\n",
            "Train Loss: 0.0035 | Dice: 0.9272 | IoU: 0.8643\n",
            "Val   Loss: 0.0035 | Dice: 0.9274 | IoU: 0.8646\n"
          ]
        },
        {
          "output_type": "stream",
          "name": "stderr",
          "text": [
            "Epoch 13/20: 100%|██████████| 563/563 [01:31<00:00,  6.16it/s]\n"
          ]
        },
        {
          "output_type": "stream",
          "name": "stdout",
          "text": [
            "\n",
            "Epoch 13/20\n",
            "Train Loss: 0.0034 | Dice: 0.9282 | IoU: 0.8661\n",
            "Val   Loss: 0.0033 | Dice: 0.9281 | IoU: 0.8658\n",
            "✔ Model improved. Saved to best_ae_model.pth\n"
          ]
        },
        {
          "output_type": "stream",
          "name": "stderr",
          "text": [
            "Epoch 14/20: 100%|██████████| 563/563 [01:31<00:00,  6.14it/s]\n"
          ]
        },
        {
          "output_type": "stream",
          "name": "stdout",
          "text": [
            "\n",
            "Epoch 14/20\n",
            "Train Loss: 0.0033 | Dice: 0.9287 | IoU: 0.8669\n",
            "Val   Loss: 0.0033 | Dice: 0.9287 | IoU: 0.8670\n"
          ]
        },
        {
          "output_type": "stream",
          "name": "stderr",
          "text": [
            "Epoch 15/20: 100%|██████████| 563/563 [01:33<00:00,  6.03it/s]\n"
          ]
        },
        {
          "output_type": "stream",
          "name": "stdout",
          "text": [
            "\n",
            "Epoch 15/20\n",
            "Train Loss: 0.0033 | Dice: 0.9294 | IoU: 0.8681\n",
            "Val   Loss: 0.0032 | Dice: 0.9291 | IoU: 0.8676\n",
            "✔ Model improved. Saved to best_ae_model.pth\n"
          ]
        },
        {
          "output_type": "stream",
          "name": "stderr",
          "text": [
            "Epoch 16/20: 100%|██████████| 563/563 [01:32<00:00,  6.11it/s]\n"
          ]
        },
        {
          "output_type": "stream",
          "name": "stdout",
          "text": [
            "\n",
            "Epoch 16/20\n",
            "Train Loss: 0.0032 | Dice: 0.9301 | IoU: 0.8694\n",
            "Val   Loss: 0.0033 | Dice: 0.9285 | IoU: 0.8665\n"
          ]
        },
        {
          "output_type": "stream",
          "name": "stderr",
          "text": [
            "Epoch 17/20: 100%|██████████| 563/563 [01:30<00:00,  6.20it/s]\n"
          ]
        },
        {
          "output_type": "stream",
          "name": "stdout",
          "text": [
            "\n",
            "Epoch 17/20\n",
            "Train Loss: 0.0031 | Dice: 0.9307 | IoU: 0.8704\n",
            "Val   Loss: 0.0032 | Dice: 0.9304 | IoU: 0.8699\n",
            "✔ Model improved. Saved to best_ae_model.pth\n"
          ]
        },
        {
          "output_type": "stream",
          "name": "stderr",
          "text": [
            "Epoch 18/20: 100%|██████████| 563/563 [01:34<00:00,  5.94it/s]\n"
          ]
        },
        {
          "output_type": "stream",
          "name": "stdout",
          "text": [
            "\n",
            "Epoch 18/20\n",
            "Train Loss: 0.0031 | Dice: 0.9309 | IoU: 0.8708\n",
            "Val   Loss: 0.0031 | Dice: 0.9302 | IoU: 0.8695\n",
            "✔ Model improved. Saved to best_ae_model.pth\n"
          ]
        },
        {
          "output_type": "stream",
          "name": "stderr",
          "text": [
            "Epoch 19/20: 100%|██████████| 563/563 [01:32<00:00,  6.07it/s]\n"
          ]
        },
        {
          "output_type": "stream",
          "name": "stdout",
          "text": [
            "\n",
            "Epoch 19/20\n",
            "Train Loss: 0.0030 | Dice: 0.9316 | IoU: 0.8721\n",
            "Val   Loss: 0.0032 | Dice: 0.9299 | IoU: 0.8691\n"
          ]
        },
        {
          "output_type": "stream",
          "name": "stderr",
          "text": [
            "Epoch 20/20: 100%|██████████| 563/563 [01:31<00:00,  6.15it/s]\n"
          ]
        },
        {
          "output_type": "stream",
          "name": "stdout",
          "text": [
            "\n",
            "Epoch 20/20\n",
            "Train Loss: 0.0030 | Dice: 0.9321 | IoU: 0.8729\n",
            "Val   Loss: 0.0030 | Dice: 0.9326 | IoU: 0.8738\n",
            "✔ Model improved. Saved to best_ae_model.pth\n",
            "✅ Best model loaded from best_ae_model.pth\n",
            "\n",
            "Test Results:\n",
            "Test Loss: 0.0030\n",
            "Dice Coefficient: 0.9329\n",
            "IoU Score: 0.8743\n"
          ]
        },
        {
          "output_type": "display_data",
          "data": {
            "text/plain": [
              "<Figure size 1500x500 with 3 Axes>"
            ],
            "image/png": "[encoded data removed]"
          },
          "metadata": {}
        }
      ]
    },
    {
      "cell_type": "code",
      "source": [
        "from google.colab import files\n",
        "files.download(\"best_ae_model.pth\")"
      ],
      "metadata": {
        "colab": {
          "base_uri": "https://localhost:8080/",
          "height": 17
        },
        "id": "xkULuemove9B",
        "outputId": "d025548b-cf87-451b-aa7f-4555b58e2da3"
      },
      "execution_count": 7,
      "outputs": [
        {
          "output_type": "display_data",
          "data": {
            "text/plain": [
              "<IPython.core.display.Javascript object>"
            ],
            "application/javascript": [
              "\n",
              "    async function download(id, filename, size) {\n",
              "      if (!google.colab.kernel.accessAllowed) {\n",
              "        return;\n",
              "      }\n",
              "      const div = document.createElement('div');\n",
              "      const label = document.createElement('label');\n",
              "      label.textContent = `Downloading \"${filename}\": `;\n",
              "      div.appendChild(label);\n",
              "      const progress = document.createElement('progress');\n",
              "      progress.max = size;\n",
              "      div.appendChild(progress);\n",
              "      document.body.appendChild(div);\n",
              "\n",
              "      const buffers = [];\n",
              "      let downloaded = 0;\n",
              "\n",
              "      const channel = await google.colab.kernel.comms.open(id);\n",
              "      // Send a message to notify the kernel that we're ready.\n",
              "      channel.send({})\n",
              "\n",
              "      for await (const message of channel.messages) {\n",
              "        // Send a message to notify the kernel that we're ready.\n",
              "        channel.send({})\n",
              "        if (message.buffers) {\n",
              "          for (const buffer of message.buffers) {\n",
              "            buffers.push(buffer);\n",
              "            downloaded += buffer.byteLength;\n",
              "            progress.value = downloaded;\n",
              "          }\n",
              "        }\n",
              "      }\n",
              "      const blob = new Blob(buffers, {type: 'application/binary'});\n",
              "      const a = document.createElement('a');\n",
              "      a.href = window.URL.createObjectURL(blob);\n",
              "      a.download = filename;\n",
              "      div.appendChild(a);\n",
              "      a.click();\n",
              "      div.remove();\n",
              "    }\n",
              "  "
            ]
          },
          "metadata": {}
        },
        {
          "output_type": "display_data",
          "data": {
            "text/plain": [
              "<IPython.core.display.Javascript object>"
            ],
            "application/javascript": [
              "download(\"download_fc3f48a7-b845-481b-b7a5-515c4fb874e4\", \"best_ae_model.pth\", 1862776)"
            ]
          },
          "metadata": {}
        }
      ]
    }
  ]
}