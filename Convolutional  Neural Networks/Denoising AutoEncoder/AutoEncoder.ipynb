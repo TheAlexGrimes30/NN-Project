{
  "nbformat": 4,
  "nbformat_minor": 0,
  "metadata": {
    "colab": {
      "provenance": []
    },
    "kernelspec": {
      "name": "python3",
      "display_name": "Python 3"
    },
    "language_info": {
      "name": "python"
    }
  },
  "cells": [
    {
      "cell_type": "markdown",
      "source": [
        "# Шумоподавляющий Автоэнкодер"
      ],
      "metadata": {
        "id": "k58j1MOATcaj"
      }
    },
    {
      "cell_type": "code",
      "execution_count": 15,
      "metadata": {
        "id": "POv9FElKTXMB"
      },
      "outputs": [],
      "source": [
        "import torch\n",
        "import torch.nn as nn\n",
        "import torch.optim as optim\n",
        "import torchvision.transforms as transforms\n",
        "from torchvision.datasets import MNIST\n",
        "from torch.utils.data import random_split, DataLoader\n",
        "from tqdm import tqdm\n",
        "import matplotlib.pyplot as plt"
      ]
    },
    {
      "cell_type": "code",
      "source": [
        "transform = transforms.Compose([\n",
        "    transforms.Resize(32,),\n",
        "    transforms.ToTensor(),\n",
        "    transforms.Normalize((0.5,), (0.5,))\n",
        "])\n",
        "\n",
        "dataset = MNIST(root='./data', train=True, download=True, transform=transform)\n",
        "\n",
        "train_size = int(len(dataset) * 0.6)\n",
        "val_size = int(len(dataset) * 0.2)\n",
        "test_size = len(dataset) - (val_size + train_size)\n",
        "\n",
        "generator = torch.Generator().manual_seed(42)\n",
        "\n",
        "train_dataset, val_dataset, test_dataset = random_split(dataset, [train_size, val_size, test_size], generator=generator)\n",
        "\n",
        "train_loader = DataLoader(train_dataset, batch_size=64, shuffle=True, num_workers=8)\n",
        "val_loader = DataLoader(val_dataset, batch_size=64, shuffle=False, num_workers=8)\n",
        "test_loader = DataLoader(test_dataset, batch_size=64, shuffle=False, num_workers=8)"
      ],
      "metadata": {
        "id": "WMHpaGHZUBKx"
      },
      "execution_count": 16,
      "outputs": []
    },
    {
      "cell_type": "code",
      "source": [
        "class DenoisingAE(nn.Module):\n",
        "  def __init__(self):\n",
        "    super(DenoisingAE, self).__init__()\n",
        "\n",
        "    self.encoder = nn.Sequential(\n",
        "        nn.Conv2d(1, 32, 3, stride=2, padding=1),\n",
        "        nn.ReLU(),\n",
        "        nn.Conv2d(32, 64, 3, stride=2, padding=1),\n",
        "        nn.ReLU(),\n",
        "        nn.Conv2d(64, 128, 3, stride=2, padding=1),\n",
        "        nn.ReLU()\n",
        "    )\n",
        "\n",
        "    self.decoder = nn.Sequential(\n",
        "        nn.ConvTranspose2d(128, 64, 3, stride=2, padding=1, output_padding=1),\n",
        "        nn.ReLU(),\n",
        "        nn.ConvTranspose2d(64, 32, 3, stride=2, padding=1, output_padding=1),\n",
        "        nn.ReLU(),\n",
        "        nn.ConvTranspose2d(32, 1, 3, stride=2, padding=1, output_padding=1),\n",
        "        nn.Sigmoid()\n",
        "    )\n",
        "\n",
        "  def forward(self, x):\n",
        "    x = self.encoder(x)\n",
        "    x = self.decoder(x)\n",
        "    return x"
      ],
      "metadata": {
        "id": "07IuByoXU8XG"
      },
      "execution_count": 17,
      "outputs": []
    },
    {
      "cell_type": "code",
      "source": [
        "def add_noise(images, noise_factor=0.5):\n",
        "  noisy = images + noise_factor * torch.randn_like(images)\n",
        "  noisy = torch.clamp(noisy, 0., 1.)\n",
        "  return noisy"
      ],
      "metadata": {
        "id": "w5VeErlGW9kr"
      },
      "execution_count": null,
      "outputs": []
    },
    {
      "cell_type": "code",
      "source": [
        "epochs = 20\n",
        "device = torch.device(\"cuda\" if torch.cuda.is_available() else \"cpu\")\n",
        "model = DenoisingAE().to(device)\n",
        "optimizer = optim.Adam(model.parameters(), lr=0.001)\n",
        "criterion = nn.MSELoss()\n",
        "\n",
        "patience = 3\n",
        "best_val_loss = float(\"inf\")\n",
        "patience_counter = 0\n",
        "model_path = \"best_ae_classification.pth\"\n",
        "\n",
        "def dice_coeff(pred, target):\n",
        "  smooth = 1\n",
        "  pred_flat = pred.view(-1)\n",
        "  target_flat = target.view(-1)\n",
        "  intersection = (pred_flat * target_flat).sum()\n",
        "  return (2 * intersection + smooth) / (pred_flat.sum() + target_flat.sum() + smooth)\n",
        "\n",
        "def iou_score(pred, target):\n",
        "  smooth = 1\n",
        "  pred_flat = pred.view(-1)\n",
        "  target_flat = target.view(-1)\n",
        "  intersection = (pred_flat * target_flat).sum()\n",
        "  union = pred_flat.sum() + target_flat.sum() - intersection\n",
        "  return (intersection + smooth) / (union + smooth)\n",
        "\n",
        "for epoch in range(epochs):\n",
        "    model.train()\n",
        "    running_loss = 0.0\n",
        "    running_dice = 0.0\n",
        "    running_iou = 0.0\n",
        "\n",
        "    for clean_images, _ in tqdm(train_loader, desc=f\"Epoch {epoch+1}/{epochs}\"):\n",
        "        clean_images = clean_images.to(device)\n",
        "        noisy_images = add_noise(clean_images)\n",
        "\n",
        "        optimizer.zero_grad()\n",
        "        outputs = model(noisy_images)\n",
        "\n",
        "        loss = criterion(outputs, clean_images)\n",
        "        loss.backward()\n",
        "        optimizer.step()\n",
        "\n",
        "        running_loss += loss.item()\n",
        "\n",
        "        outputs_bin = (outputs > 0.5).float()\n",
        "        clean_bin = (clean_images > 0.5).float()\n",
        "\n",
        "        running_dice += dice_coeff(outputs_bin, clean_bin)\n",
        "        running_iou += iou_score(outputs_bin, clean_bin)\n",
        "\n",
        "    train_loss = running_loss / len(train_loader)\n",
        "    train_dice = running_dice / len(train_loader)\n",
        "    train_iou = running_iou / len(train_loader)\n",
        "\n",
        "    model.eval()\n",
        "    val_loss = 0.0\n",
        "    val_dice = 0.0\n",
        "    val_iou = 0.0\n",
        "\n",
        "    with torch.no_grad():\n",
        "        for clean_images, _ in val_loader:\n",
        "            clean_images = clean_images.to(device)\n",
        "            noisy_images = add_noise(clean_images)\n",
        "            outputs = model(noisy_images)\n",
        "\n",
        "            val_loss += criterion(outputs, clean_images).item()\n",
        "\n",
        "            outputs_bin = (outputs > 0.5).float()\n",
        "            clean_bin = (clean_images > 0.5).float()\n",
        "\n",
        "            val_dice += dice_coeff(outputs_bin, clean_bin)\n",
        "            val_iou += iou_score(outputs_bin, clean_bin)\n",
        "\n",
        "    val_loss /= len(val_loader)\n",
        "    val_dice /= len(val_loader)\n",
        "    val_iou /= len(val_loader)\n",
        "\n",
        "    print(f\"\\nEpoch {epoch+1}/{epochs}\")\n",
        "    print(f\"Train Loss: {train_loss:.4f} | Dice: {train_dice:.4f} | IoU: {train_iou:.4f}\")\n",
        "    print(f\"Val   Loss: {val_loss:.4f} | Dice: {val_dice:.4f} | IoU: {val_iou:.4f}\")\n",
        "\n",
        "    if val_loss < best_val_loss:\n",
        "        best_val_loss = val_loss\n",
        "        patience_counter = 0\n",
        "        torch.save(model.state_dict(), model_path)\n",
        "        print(f\"✔ Model improved. Saved to {model_path}\")\n",
        "    else:\n",
        "        patience_counter += 1\n",
        "        if patience_counter >= patience:\n",
        "            print(\"⏹ Early stopping triggered!\")\n",
        "            break\n",
        "\n",
        "model.load_state_dict(torch.load(model_path))\n",
        "model.to(device)\n",
        "print(f\"✅ Best model loaded from {model_path}\")\n",
        "\n",
        "model.eval()\n",
        "test_loss = 0.0\n",
        "test_dice = 0.0\n",
        "test_iou = 0.0\n",
        "\n",
        "with torch.no_grad():\n",
        "    for clean_images, _ in test_loader:\n",
        "        clean_images = clean_images.to(device)\n",
        "        noisy_images = add_noise(clean_images)\n",
        "        outputs = model(noisy_images)\n",
        "\n",
        "        test_loss += criterion(outputs, clean_images).item()\n",
        "\n",
        "        outputs_bin = (outputs > 0.5).float()\n",
        "        clean_bin = (clean_images > 0.5).float()\n",
        "\n",
        "        test_dice += dice_coeff(outputs_bin, clean_bin)\n",
        "        test_iou += iou_score(outputs_bin, clean_bin)\n",
        "\n",
        "test_loss /= len(test_loader)\n",
        "test_dice /= len(test_loader)\n",
        "test_iou /= len(test_loader)\n",
        "\n",
        "print(\"\\nTest Results:\")\n",
        "print(f\"Test Loss: {test_loss:.4f}\")\n",
        "print(f\"Dice Coefficient: {test_dice:.4f}\")\n",
        "print(f\"IoU Score: {test_iou:.4f}\")\n",
        "\n",
        "\n",
        "\n",
        "def plot_results(model, test_loader, device, num_images=1):\n",
        "    model.eval()\n",
        "    with torch.no_grad():\n",
        "        data = next(iter(test_loader))\n",
        "        clean_images, _ = data\n",
        "        clean_images = clean_images[:num_images].to(device)\n",
        "        noisy_images = add_noise(clean_images)\n",
        "        outputs = model(noisy_images)\n",
        "\n",
        "        plt.figure(figsize=(15, 5))\n",
        "        for i in range(num_images):\n",
        "            plt.subplot(3, num_images, i+1)\n",
        "            plt.imshow(clean_images[i].cpu().squeeze(), cmap='gray')\n",
        "            plt.title(\"Original\")\n",
        "            plt.axis('off')\n",
        "\n",
        "            plt.subplot(3, num_images, num_images+i+1)\n",
        "            plt.imshow(noisy_images[i].cpu().squeeze(), cmap='gray')\n",
        "            plt.title(\"Noisy\")\n",
        "            plt.axis('off')\n",
        "\n",
        "            plt.subplot(3, num_images, 2*num_images+i+1)\n",
        "            plt.imshow(outputs[i].cpu().squeeze(), cmap='gray')\n",
        "            plt.title(\"Reconstructed\")\n",
        "            plt.axis('off')\n",
        "\n",
        "        plt.tight_layout()\n",
        "        plt.show()\n",
        "\n",
        "plot_results(model, test_loader, device)"
      ],
      "metadata": {
        "colab": {
          "base_uri": "https://localhost:8080/",
          "height": 1000
        },
        "id": "cXDaPupCXXew",
        "outputId": "df8f8e6c-fc65-4ae3-d550-3de06dcb0c19"
      },
      "execution_count": 14,
      "outputs": [
        {
          "metadata": {
            "tags": null
          },
          "name": "stderr",
          "output_type": "stream",
          "text": [
            "Epoch 1/20: 100%|██████████| 563/563 [02:18<00:00,  4.07it/s]\n"
          ]
        },
        {
          "metadata": {
            "tags": null
          },
          "name": "stdout",
          "output_type": "stream",
          "text": [
            "\n",
            "Epoch 1/20\n",
            "Train Loss: 0.8967 | Dice: 0.0018 | IoU: 0.0011\n",
            "Val   Loss: 0.8796 | Dice: 0.0002 | IoU: 0.0002\n",
            "✔ Model improved. Saved to best_ae_classification.pth\n"
          ]
        },
        {
          "output_type": "stream",
          "name": "stderr",
          "text": [
            "Epoch 2/20: 100%|██████████| 563/563 [02:22<00:00,  3.95it/s]\n"
          ]
        },
        {
          "output_type": "stream",
          "name": "stdout",
          "text": [
            "\n",
            "Epoch 2/20\n",
            "Train Loss: 0.8796 | Dice: 0.0002 | IoU: 0.0002\n",
            "Val   Loss: 0.8796 | Dice: 0.0002 | IoU: 0.0002\n",
            "✔ Model improved. Saved to best_ae_classification.pth\n"
          ]
        },
        {
          "output_type": "stream",
          "name": "stderr",
          "text": [
            "Epoch 3/20: 100%|██████████| 563/563 [02:22<00:00,  3.94it/s]\n"
          ]
        },
        {
          "output_type": "stream",
          "name": "stdout",
          "text": [
            "\n",
            "Epoch 3/20\n",
            "Train Loss: 0.8796 | Dice: 0.0002 | IoU: 0.0002\n",
            "Val   Loss: 0.8796 | Dice: 0.0002 | IoU: 0.0002\n",
            "✔ Model improved. Saved to best_ae_classification.pth\n"
          ]
        },
        {
          "output_type": "stream",
          "name": "stderr",
          "text": [
            "Epoch 4/20: 100%|██████████| 563/563 [02:22<00:00,  3.94it/s]\n"
          ]
        },
        {
          "output_type": "stream",
          "name": "stdout",
          "text": [
            "\n",
            "Epoch 4/20\n",
            "Train Loss: 0.8796 | Dice: 0.0002 | IoU: 0.0002\n",
            "Val   Loss: 0.8796 | Dice: 0.0002 | IoU: 0.0002\n"
          ]
        },
        {
          "output_type": "stream",
          "name": "stderr",
          "text": [
            "Epoch 5/20: 100%|██████████| 563/563 [02:22<00:00,  3.94it/s]\n"
          ]
        },
        {
          "output_type": "stream",
          "name": "stdout",
          "text": [
            "\n",
            "Epoch 5/20\n",
            "Train Loss: 0.8796 | Dice: 0.0002 | IoU: 0.0002\n",
            "Val   Loss: 0.8796 | Dice: 0.0002 | IoU: 0.0002\n"
          ]
        },
        {
          "output_type": "stream",
          "name": "stderr",
          "text": [
            "Epoch 6/20: 100%|██████████| 563/563 [02:22<00:00,  3.96it/s]\n"
          ]
        },
        {
          "output_type": "stream",
          "name": "stdout",
          "text": [
            "\n",
            "Epoch 6/20\n",
            "Train Loss: 0.8796 | Dice: 0.0002 | IoU: 0.0002\n",
            "Val   Loss: 0.8796 | Dice: 0.0002 | IoU: 0.0002\n",
            "✔ Model improved. Saved to best_ae_classification.pth\n"
          ]
        },
        {
          "output_type": "stream",
          "name": "stderr",
          "text": [
            "Epoch 7/20: 100%|██████████| 563/563 [02:21<00:00,  3.97it/s]\n"
          ]
        },
        {
          "output_type": "stream",
          "name": "stdout",
          "text": [
            "\n",
            "Epoch 7/20\n",
            "Train Loss: 0.8796 | Dice: 0.0002 | IoU: 0.0002\n",
            "Val   Loss: 0.8796 | Dice: 0.0002 | IoU: 0.0002\n",
            "✔ Model improved. Saved to best_ae_classification.pth\n"
          ]
        },
        {
          "output_type": "stream",
          "name": "stderr",
          "text": [
            "Epoch 8/20: 100%|██████████| 563/563 [02:21<00:00,  3.97it/s]\n"
          ]
        },
        {
          "output_type": "stream",
          "name": "stdout",
          "text": [
            "\n",
            "Epoch 8/20\n",
            "Train Loss: 0.8796 | Dice: 0.0002 | IoU: 0.0002\n",
            "Val   Loss: 0.8796 | Dice: 0.0002 | IoU: 0.0002\n"
          ]
        },
        {
          "output_type": "stream",
          "name": "stderr",
          "text": [
            "Epoch 9/20: 100%|██████████| 563/563 [02:21<00:00,  3.98it/s]\n"
          ]
        },
        {
          "output_type": "stream",
          "name": "stdout",
          "text": [
            "\n",
            "Epoch 9/20\n",
            "Train Loss: 0.8796 | Dice: 0.0002 | IoU: 0.0002\n",
            "Val   Loss: 0.8796 | Dice: 0.0002 | IoU: 0.0002\n"
          ]
        },
        {
          "output_type": "stream",
          "name": "stderr",
          "text": [
            "Epoch 10/20: 100%|██████████| 563/563 [02:21<00:00,  3.98it/s]\n"
          ]
        },
        {
          "output_type": "stream",
          "name": "stdout",
          "text": [
            "\n",
            "Epoch 10/20\n",
            "Train Loss: 0.8796 | Dice: 0.0002 | IoU: 0.0002\n",
            "Val   Loss: 0.8796 | Dice: 0.0002 | IoU: 0.0002\n",
            "⏹ Early stopping triggered!\n",
            "✅ Best model loaded from best_ae_classification.pth\n",
            "\n",
            "Test Results:\n",
            "Test Loss: 0.8800\n",
            "Dice Coefficient: 0.0002\n",
            "IoU Score: 0.0002\n"
          ]
        },
        {
          "output_type": "display_data",
          "data": {
            "text/plain": [
              "<Figure size 1500x500 with 3 Axes>"
            ],
            "image/png": "[encoded data removed]"
          },
          "metadata": {}
        }
      ]
    }
  ]
}