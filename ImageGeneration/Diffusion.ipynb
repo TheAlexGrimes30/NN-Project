{
 "cells": [
  {
   "cell_type": "code",
   "execution_count": 13,
   "id": "0abe171a-f0b9-4f23-95c8-1741aaf0522e",
   "metadata": {},
   "outputs": [],
   "source": [
    "import torch\n",
    "import torch.nn as nn\n",
    "import torch.nn.functional as F\n",
    "from torchvision import datasets, transforms\n",
    "from torch.utils.data import DataLoader\n",
    "import matplotlib.pyplot as plt\n",
    "from tqdm import tqdm"
   ]
  },
  {
   "cell_type": "code",
   "execution_count": 14,
   "id": "d7ae98e2-5db5-4889-82d4-ffe6146a0a08",
   "metadata": {},
   "outputs": [],
   "source": [
    "T = 300\n",
    "beta = torch.linspace(1e-4, 0.02, T)\n",
    "alpha = 1. - beta\n",
    "alpha_hat = torch.cumprod(alpha, dim=0)"
   ]
  },
  {
   "cell_type": "code",
   "execution_count": 15,
   "id": "08557931-7bba-407d-81e4-008b2358cd5c",
   "metadata": {},
   "outputs": [],
   "source": [
    "class TimeEmbedding(nn.Module):\n",
    "    def __init__(self, dim: int):\n",
    "        super().__init__()\n",
    "        self.fc1 = nn.Linear(1, dim)\n",
    "        self.fc2 = nn.Linear(dim, dim)\n",
    "\n",
    "    def forward(self, t):\n",
    "        t = t.unsqueeze(1) / T\n",
    "        x = F.relu(self.fc1(t))\n",
    "        return self.fc2(x)"
   ]
  },
  {
   "cell_type": "code",
   "execution_count": 16,
   "id": "27a64801-a4eb-4304-99ba-a62d41329de8",
   "metadata": {},
   "outputs": [],
   "source": [
    "class CNNDiffusionModel(nn.Module):\n",
    "    def __init__(self, channels: int = 1, time_dim: int = 64):\n",
    "        super().__init__()\n",
    "        self.time_mlp = TimeEmbedding(time_dim)\n",
    "\n",
    "        self.enc1 = nn.Conv2d(channels, 32, 3, padding=1)\n",
    "        self.enc2 = nn.Conv2d(32, 64, 3, padding=1)\n",
    "\n",
    "        self.bottleneck = nn.Conv2d(64, 64, 3, padding=1)\n",
    "\n",
    "        self.dec2 = nn.Conv2d(64 + 64, 32, 3, padding=1)\n",
    "        self.dec1 = nn.Conv2d(32 + 32, channels, 3, padding=1)\n",
    "\n",
    "        self.time_emb_enc2 = nn.Linear(time_dim, 64)\n",
    "        self.time_emb_dec2 = nn.Linear(time_dim, 32)\n",
    "\n",
    "    def forward(self, x, t):\n",
    "        t_emb = self.time_mlp(t.float())\n",
    "\n",
    "        h1 = F.relu(self.enc1(x))           \n",
    "        h2 = F.relu(self.enc2(h1) + self.time_emb_enc2(t_emb)[:, :, None, None]) \n",
    "\n",
    "        h_bottleneck = F.relu(self.bottleneck(h2)) \n",
    "\n",
    "        h_dec2 = F.relu(self.dec2(torch.cat([h_bottleneck, h2], dim=1)) + \n",
    "                        self.time_emb_dec2(t_emb)[:, :, None, None])\n",
    "        out = self.dec1(torch.cat([h_dec2, h1], dim=1)) \n",
    "\n",
    "        return out"
   ]
  },
  {
   "cell_type": "code",
   "execution_count": 17,
   "id": "71ef8f34-f951-4fc5-972b-834715f215e2",
   "metadata": {},
   "outputs": [],
   "source": [
    "def q_sample(x0, t, noise=False):\n",
    "    if noise is None:\n",
    "        noise = torch.rand_like(x0)\n",
    "    sqrt_alpha_hat = alpha_hat[t][:, None, None, None] ** 0.5\n",
    "    sqrt_one_minus_alpha_hat = (1 - alpha_hat[t])[:, None, None, None]\n",
    "    return sqrt_alpha_hat * x0 + sqrt_one_minus_alpha_hat * noise"
   ]
  },
  {
   "cell_type": "code",
   "execution_count": 18,
   "id": "d624a9b5-b722-4f74-992a-1b0cdfafe739",
   "metadata": {},
   "outputs": [],
   "source": [
    "def loss_fn(model, x0):\n",
    "    batch_size = x0.shape[0]\n",
    "    t = torch.randint(0, T, (batch_size,), device=x0.device)\n",
    "    noise = torch.randn_like(x0)\n",
    "    xt = q_sample(x0, t, noise)\n",
    "    noise_pred = model(xt, t)\n",
    "    return F.mse_loss(noise_pred, noise)"
   ]
  },
  {
   "cell_type": "code",
   "execution_count": 19,
   "id": "62729b81-3cb0-4088-b32f-42152a61877c",
   "metadata": {},
   "outputs": [],
   "source": [
    "def p_sample(model, xt, t):\n",
    "    noise_pred = model(xt, torch.tensor([t], device=xt.device).repeat(xt.size(0)))\n",
    "    alpha_t = alpha[t]\n",
    "    alpha_hat_t = alpha_hat[t]\n",
    "    beta_t = beta[t]\n",
    "\n",
    "    coef1 = 1 / torch.sqrt(alpha_t)\n",
    "    coef2 = (1 - alpha_t) / torch.sqrt(1 - alpha_hat_t)\n",
    "    mean = coef1 * (xt - coef2 * noise_pred)\n",
    "\n",
    "    if t > 0:\n",
    "        z = torch.randn_like(xt)\n",
    "        return mean + torch.sqrt(beta_t) * z\n",
    "    else:\n",
    "        return mean"
   ]
  },
  {
   "cell_type": "code",
   "execution_count": 20,
   "id": "a04a182d-4534-4c1e-9849-e410a61381c6",
   "metadata": {},
   "outputs": [],
   "source": [
    "def sample_images(model, n=16):\n",
    "    model.eval()\n",
    "    xt = torch.randn(n, 1, 28, 28, device=device)\n",
    "    for t in reversed(range(T)):\n",
    "        xt = p_sample(model, xt, t)\n",
    "    return xt"
   ]
  },
  {
   "cell_type": "code",
   "execution_count": 21,
   "id": "54cd2594-f95c-4774-8b0c-0f0c101db7fa",
   "metadata": {},
   "outputs": [],
   "source": [
    "transform = transforms.Compose([\n",
    "    transforms.ToTensor(),\n",
    "    transforms.Lambda(lambda x: x * 2 - 1)\n",
    "])\n",
    "\n",
    "train_data = datasets.MNIST(root=\"./data\", train=True, download=True, transform=transform)\n",
    "train_loader = DataLoader(train_data, batch_size=128, shuffle=True)"
   ]
  },
  {
   "cell_type": "code",
   "execution_count": 22,
   "id": "6113ffb9-af34-4d04-9e1b-9d2b44bd79d6",
   "metadata": {},
   "outputs": [],
   "source": [
    "device = torch.device(\"cuda\" if torch.cuda.is_available() else \"cpu\")\n",
    "model = CNNDiffusionModel().to(device)\n",
    "optimizer = torch.optim.Adam(model.parameters(), lr=1e-3)\n",
    "\n",
    "EPOCHS = 2"
   ]
  },
  {
   "cell_type": "code",
   "execution_count": 23,
   "id": "962c8548-16f8-478a-91bf-e509b121cb1a",
   "metadata": {},
   "outputs": [
    {
     "name": "stderr",
     "output_type": "stream",
     "text": [
      "Epoch 1/2: 100%|████████████████████████████████████████████████████████████████| 469/469 [04:03<00:00,  1.92it/s]\n"
     ]
    },
    {
     "name": "stdout",
     "output_type": "stream",
     "text": [
      "Epoch 1/2, Avg Loss: 0.1881\n"
     ]
    },
    {
     "name": "stderr",
     "output_type": "stream",
     "text": [
      "Epoch 2/2: 100%|████████████████████████████████████████████████████████████████| 469/469 [02:34<00:00,  3.04it/s]"
     ]
    },
    {
     "name": "stdout",
     "output_type": "stream",
     "text": [
      "Epoch 2/2, Avg Loss: 0.1093\n"
     ]
    },
    {
     "name": "stderr",
     "output_type": "stream",
     "text": [
      "\n"
     ]
    }
   ],
   "source": [
    "for epoch in range(EPOCHS):\n",
    "    model.train()  \n",
    "    running_loss = 0.0\n",
    "    \n",
    "    for batch, _ in tqdm(train_loader, desc=f\"Epoch {epoch+1}/{EPOCHS}\"):\n",
    "        batch = batch.to(device)\n",
    "\n",
    "        loss = loss_fn(model, batch)\n",
    "\n",
    "        optimizer.zero_grad()\n",
    "        loss.backward()\n",
    "        optimizer.step()\n",
    "\n",
    "        running_loss += loss.item()\n",
    "\n",
    "    avg_loss = running_loss / len(train_loader)\n",
    "    print(f\"Epoch {epoch+1}/{EPOCHS}, Avg Loss: {avg_loss:.4f}\")"
   ]
  },
  {
   "cell_type": "code",
   "execution_count": 24,
   "id": "b5709b80-6505-4323-bfbe-9042b004aa8d",
   "metadata": {},
   "outputs": [
    {
     "data": {
      "image/png": "[encoded data removed]",
      "text/plain": [
       "<Figure size 600x600 with 16 Axes>"
      ]
     },
     "metadata": {},
     "output_type": "display_data"
    }
   ],
   "source": [
    "gen_imgs = sample_images(model, n=16).cpu()\n",
    "gen_imgs = (gen_imgs + 1) / 2 \n",
    "\n",
    "fig, axs = plt.subplots(4, 4, figsize=(6,6))\n",
    "for i, ax in enumerate(axs.flat):\n",
    "    ax.imshow(gen_imgs[i,0].detach(), cmap=\"gray\")\n",
    "    ax.axis(\"off\")\n",
    "plt.show()"
   ]
  }
 ],
 "metadata": {
  "kernelspec": {
   "display_name": "Python 3 (ipykernel)",
   "language": "python",
   "name": "python3"
  },
  "language_info": {
   "codemirror_mode": {
    "name": "ipython",
    "version": 3
   },
   "file_extension": ".py",
   "mimetype": "text/x-python",
   "name": "python",
   "nbconvert_exporter": "python",
   "pygments_lexer": "ipython3",
   "version": "3.12.6"
  }
 },
 "nbformat": 4,
 "nbformat_minor": 5
}
