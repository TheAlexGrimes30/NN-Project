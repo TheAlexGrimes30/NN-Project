{
 "cells": [
  {
   "cell_type": "code",
   "execution_count": 11,
   "id": "d50b4499-ab9e-499b-a9ec-a7772ece993d",
   "metadata": {},
   "outputs": [],
   "source": [
    "import torch\n",
    "import torch.nn as nn\n",
    "import torch.nn.functional as F\n",
    "from torch.utils.data import DataLoader\n",
    "import torchvision\n",
    "from torchvision import transforms\n",
    "from tqdm import tqdm"
   ]
  },
  {
   "cell_type": "code",
   "execution_count": 12,
   "id": "d91a4674-7e0f-4709-93f4-a371b330a204",
   "metadata": {},
   "outputs": [],
   "source": [
    "device = torch.device(\"cuda\" if torch.cuda.is_available() else \"cpu\")\n",
    "batch_size = 64\n",
    "image_size = 28\n",
    "patch_size = 7\n",
    "num_classes = 10\n",
    "dim = 128\n",
    "depth = 6 \n",
    "heads = 8\n",
    "mlp_dim = 256\n",
    "lr = 3e-4\n",
    "epochs = 5\n",
    "\n",
    "transform = transforms.Compose([\n",
    "    transforms.ToTensor(),\n",
    "    transforms.Normalize((0.5,), (0.5,))\n",
    "])\n",
    "train_dataset = torchvision.datasets.MNIST(root='./data', train=True, download=True, transform=transform)\n",
    "train_loader = DataLoader(train_dataset, batch_size=batch_size, shuffle=True)"
   ]
  },
  {
   "cell_type": "code",
   "execution_count": 13,
   "id": "5fcf3ed1-dd85-4fb4-b47d-3d1a3cd099c0",
   "metadata": {},
   "outputs": [],
   "source": [
    "class PatchEmbedding(nn.Module):\n",
    "    def __init__(self, in_channels=1, patch_size=7, emb_size=128, img_size=28):\n",
    "        super().__init__()\n",
    "        self.patch_size = patch_size\n",
    "        self.n_patches_h = img_size // patch_size\n",
    "        self.n_patches_w = img_size // patch_size\n",
    "        self.n_patches = self.n_patches_h * self.n_patches_w\n",
    "        self.proj = nn.Conv2d(in_channels, emb_size, kernel_size=patch_size, stride=patch_size)\n",
    "\n",
    "    def forward(self, x):\n",
    "        x = self.proj(x)\n",
    "        x = x.flatten(2)\n",
    "        x = x.transpose(1, 2)\n",
    "        return x"
   ]
  },
  {
   "cell_type": "code",
   "execution_count": 14,
   "id": "83720d5b-5d22-40d3-88ad-5f1f416ec9a8",
   "metadata": {},
   "outputs": [],
   "source": [
    "class TransformerBlock(nn.Module):\n",
    "    def __init__(self, emb_size=128, heads=8, mlp_dim=256, dropout=0.1):\n",
    "        super().__init__()\n",
    "        self.norm1 = nn.LayerNorm(emb_size)\n",
    "        self.attn = nn.MultiheadAttention(embed_dim=emb_size, num_heads=heads, batch_first=True)\n",
    "        self.norm2 = nn.LayerNorm(emb_size)\n",
    "        self.mlp = nn.Sequential(\n",
    "            nn.Linear(emb_size, mlp_dim),\n",
    "            nn.GELU(),\n",
    "            nn.Linear(mlp_dim, emb_size)\n",
    "        )\n",
    "        self.dropout = nn.Dropout(dropout)\n",
    "\n",
    "    def forward(self, x):\n",
    "        x2 = self.norm1(x)\n",
    "        attn_out, _ = self.attn(x2, x2, x2)\n",
    "        x = x + self.dropout(self.mlp(x2))\n",
    "        x2 = self.norm2(x)\n",
    "        x = x + self.dropout(self.mlp(x2))\n",
    "        return x"
   ]
  },
  {
   "cell_type": "code",
   "execution_count": 15,
   "id": "f764365a-0830-4f34-9036-9fadc10401a5",
   "metadata": {},
   "outputs": [],
   "source": [
    "class ViT(nn.Module):\n",
    "    def __init__(self, in_channels=1, patch_size=7, emb_size=128, img_size=28, depth=6, heads=8, mlp_dim=256, num_classes=10, dropout=0.1):\n",
    "        super().__init__()\n",
    "        self.patch_embed = PatchEmbedding(in_channels, patch_size, emb_size, img_size)\n",
    "        self.cls_token = nn.Parameter(torch.randn(1, 1, emb_size))\n",
    "        self.pos_embed = nn.Parameter(torch.randn(1, self.patch_embed.n_patches + 1, emb_size))\n",
    "        self.dropout = nn.Dropout(dropout)\n",
    "        self.transformer = nn.Sequential(*[TransformerBlock(emb_size, heads, mlp_dim, dropout) for _ in range(depth)])\n",
    "        self.mlp_head = nn.Linear(emb_size, num_classes)\n",
    "\n",
    "    def forward(self, x):\n",
    "        x = self.patch_embed(x)\n",
    "        B = x.size(0)\n",
    "        cls_tokens = self.cls_token.expand(B, -1, -1)\n",
    "        x = torch.cat((cls_tokens, x), dim=1)\n",
    "        x = x + self.pos_embed\n",
    "        x = self.dropout(x)\n",
    "        x = self.transformer(x)\n",
    "        cls_out = x[:, 0]\n",
    "        out = self.mlp_head(cls_out)\n",
    "        return out"
   ]
  },
  {
   "cell_type": "code",
   "execution_count": 16,
   "id": "b7db7375-49d5-48b1-91b6-34880e34ecbe",
   "metadata": {},
   "outputs": [],
   "source": [
    "model = ViT().to(device)\n",
    "optimizer = torch.optim.Adam(model.parameters(), lr=lr)\n",
    "criterion = nn.CrossEntropyLoss()"
   ]
  },
  {
   "cell_type": "code",
   "execution_count": 17,
   "id": "1118c3bb-20a0-4378-bbe5-280ea70d1320",
   "metadata": {},
   "outputs": [
    {
     "name": "stderr",
     "output_type": "stream",
     "text": [
      "Epoch [1/5]: 100%|███████████████████████████████████████████████████| 938/938 [01:33<00:00, 10.01it/s, loss=2.41]\n",
      "Epoch [2/5]: 100%|████████████████████████████████████████████████████| 938/938 [01:32<00:00, 10.18it/s, loss=2.3]\n",
      "Epoch [3/5]: 100%|███████████████████████████████████████████████████| 938/938 [01:35<00:00,  9.87it/s, loss=2.29]\n",
      "Epoch [4/5]: 100%|███████████████████████████████████████████████████| 938/938 [01:39<00:00,  9.40it/s, loss=2.28]\n",
      "Epoch [5/5]: 100%|███████████████████████████████████████████████████| 938/938 [01:40<00:00,  9.30it/s, loss=2.31]\n"
     ]
    }
   ],
   "source": [
    "for epoch in range(epochs):\n",
    "    model.train()\n",
    "    loop = tqdm(train_loader)\n",
    "    for images, labels in loop:\n",
    "        images, labels = images.to(device), labels.to(device)\n",
    "        optimizer.zero_grad()\n",
    "        outputs = model(images)\n",
    "        loss = criterion(outputs, labels)\n",
    "        loss.backward()\n",
    "        optimizer.step()\n",
    "        loop.set_description(f\"Epoch [{epoch+1}/{epochs}]\")\n",
    "        loop.set_postfix(loss=loss.item())"
   ]
  },
  {
   "cell_type": "code",
   "execution_count": 18,
   "id": "9d3ffd74-0b1f-4173-a633-346fc710eebb",
   "metadata": {},
   "outputs": [
    {
     "name": "stdout",
     "output_type": "stream",
     "text": [
      "Predicted: [1 1 1 1 1 1 1 1 1 1]\n",
      "Ground truth: [9 4 5 7 4 8 3 7 6 9]\n"
     ]
    }
   ],
   "source": [
    "model.eval()\n",
    "images, labels = next(iter(train_loader))\n",
    "images = images.to(device)\n",
    "with torch.no_grad():\n",
    "    outputs = model(images)\n",
    "preds = outputs.argmax(dim=1)\n",
    "print(\"Predicted:\", preds[:10].cpu().numpy())\n",
    "print(\"Ground truth:\", labels[:10].numpy())\n"
   ]
  }
 ],
 "metadata": {
  "kernelspec": {
   "display_name": "Python 3 (ipykernel)",
   "language": "python",
   "name": "python3"
  },
  "language_info": {
   "codemirror_mode": {
    "name": "ipython",
    "version": 3
   },
   "file_extension": ".py",
   "mimetype": "text/x-python",
   "name": "python",
   "nbconvert_exporter": "python",
   "pygments_lexer": "ipython3",
   "version": "3.12.6"
  }
 },
 "nbformat": 4,
 "nbformat_minor": 5
}
