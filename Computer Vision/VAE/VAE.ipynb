{
  "nbformat": 4,
  "nbformat_minor": 0,
  "metadata": {
    "colab": {
      "provenance": []
    },
    "kernelspec": {
      "name": "python3",
      "display_name": "Python 3"
    },
    "language_info": {
      "name": "python"
    }
  },
  "cells": [
    {
      "cell_type": "markdown",
      "source": [
        "# Вариационный автоэнкодер"
      ],
      "metadata": {
        "id": "6ElLTR_uDF1c"
      }
    },
    {
      "cell_type": "code",
      "execution_count": 12,
      "metadata": {
        "id": "vz22_PjeDCAA"
      },
      "outputs": [],
      "source": [
        "import torch\n",
        "import torch.nn as nn\n",
        "import torch.optim as optim\n",
        "import torchvision.transforms as transforms\n",
        "from torchvision.datasets import MNIST\n",
        "from torch.utils.data import random_split, DataLoader\n",
        "import torch.nn.functional as F\n",
        "import matplotlib.pyplot as plt\n",
        "from tqdm import tqdm"
      ]
    },
    {
      "cell_type": "code",
      "source": [
        "transform = transforms.Compose([\n",
        "            transforms.Resize(32),\n",
        "            transforms.ToTensor(),\n",
        "            transforms.Normalize([0.5], [0.5])])\n",
        "\n",
        "dataset = MNIST(root='./data', train=True, download=True, transform=transform)\n",
        "\n",
        "train_size = int(len(dataset) * 0.6)\n",
        "val_size = int(len(dataset) * 0.2)\n",
        "test_size = len(dataset) - (val_size + train_size)\n",
        "\n",
        "generator = torch.Generator().manual_seed(42)\n",
        "\n",
        "train_dataset, val_dataset, test_dataset = random_split(dataset, [train_size, val_size, test_size], generator=generator)\n",
        "\n",
        "train_loader = DataLoader(train_dataset, batch_size=64, shuffle=True, num_workers=8)\n",
        "val_loader = DataLoader(val_dataset, batch_size=64, shuffle=False, num_workers=8)\n",
        "test_loader = DataLoader(test_dataset, batch_size=64, shuffle=False, num_workers=8)"
      ],
      "metadata": {
        "colab": {
          "base_uri": "https://localhost:8080/"
        },
        "id": "laOOZ1AUDOvB",
        "outputId": "5c16d575-20a5-4e62-841c-39d510408fdd"
      },
      "execution_count": 3,
      "outputs": [
        {
          "output_type": "stream",
          "name": "stderr",
          "text": [
            "100%|██████████| 9.91M/9.91M [00:00<00:00, 36.4MB/s]\n",
            "100%|██████████| 28.9k/28.9k [00:00<00:00, 1.15MB/s]\n",
            "100%|██████████| 1.65M/1.65M [00:00<00:00, 10.3MB/s]\n",
            "100%|██████████| 4.54k/4.54k [00:00<00:00, 4.16MB/s]\n",
            "/usr/local/lib/python3.11/dist-packages/torch/utils/data/dataloader.py:624: UserWarning: This DataLoader will create 8 worker processes in total. Our suggested max number of worker in current system is 2, which is smaller than what this DataLoader is going to create. Please be aware that excessive worker creation might get DataLoader running slow or even freeze, lower the worker number to avoid potential slowness/freeze if necessary.\n",
            "  warnings.warn(\n"
          ]
        }
      ]
    },
    {
      "cell_type": "code",
      "source": [
        "class Encoder(nn.Module):\n",
        "  def __init__(self, channels, ch = 32, z = 32):\n",
        "    super(Encoder, self).__init__()\n",
        "\n",
        "    self.conv1 = nn.Conv2d(channels, ch, kernel_size=4, stride=2, padding=1)\n",
        "    self.bn1 = nn.BatchNorm2d(ch)\n",
        "\n",
        "    self.conv2 = nn.Conv2d(ch, ch * 2, kernel_size=4, stride=2, padding=1)\n",
        "    self.bn2 = nn.BatchNorm2d(ch * 2)\n",
        "\n",
        "    self.conv3 = nn.Conv2d(ch * 2, ch * 4, kernel_size=4, stride=2, padding=1)\n",
        "    self.bn3 = nn.BatchNorm2d(ch * 4)\n",
        "\n",
        "    self.conv_mu = nn.Conv2d(ch * 4, z, kernel_size=4, stride=2, padding=1)\n",
        "    self.conv_logvar = nn.Conv2d(ch * 4, z, kernel_size=4, stride=1, padding=0)\n",
        "\n",
        "  def sample(self, mu, logvar):\n",
        "    std = torch.exp(0.5 * logvar)\n",
        "    eps = torch.randn_like(std)\n",
        "    return mu + eps * std\n",
        "\n",
        "  def forward(self, x):\n",
        "    x = self.bn1(self.conv1(x))\n",
        "    x = torch.relu(x)\n",
        "\n",
        "    x = self.bn2(self.conv2(x))\n",
        "    x = torch.relu(x)\n",
        "\n",
        "    x = self.bn3(self.conv3(x))\n",
        "    x = torch.relu(x)\n",
        "\n",
        "    mu = self.conv_mu(x)\n",
        "    logvar = self.conv_logvar(x)\n",
        "\n",
        "    z = self.sample(mu, logvar)\n",
        "\n",
        "    return z, mu, logvar"
      ],
      "metadata": {
        "id": "1tcf0jUFD2O3"
      },
      "execution_count": 4,
      "outputs": []
    },
    {
      "cell_type": "code",
      "source": [
        "class Decoder(nn.Module):\n",
        "  def __init__(self, channels, ch=32, z=32):\n",
        "      super(Decoder, self).__init__()\n",
        "\n",
        "      self.conv1 = nn.ConvTranspose2d(z, ch * 4, kernel_size=4, stride=2, padding=1)\n",
        "      self.bn1 = nn.BatchNorm2d(ch * 4)\n",
        "\n",
        "      self.conv2 = nn.ConvTranspose2d(ch * 4, ch * 2, kernel_size=4, stride=2, padding=1)\n",
        "      self.bn2 = nn.BatchNorm2d(ch * 2)\n",
        "\n",
        "      self.conv3 = nn.ConvTranspose2d(ch * 2, ch, kernel_size=4, stride=2, padding=1)\n",
        "      self.bn3 = nn.BatchNorm2d(ch)\n",
        "\n",
        "      self.conv4 = nn.ConvTranspose2d(ch, channels, kernel_size=4, stride=2, padding=1)\n",
        "\n",
        "  def forward(self, x):\n",
        "        x = self.bn1(self.conv1(x))\n",
        "        x = torch.relu(x)\n",
        "\n",
        "        x = self.bn2(self.conv2(x))\n",
        "        x = torch.relu(x)\n",
        "\n",
        "        x = self.bn3(self.conv3(x))\n",
        "        x = torch.relu(x)\n",
        "\n",
        "        x = self.conv4(x)\n",
        "        x = torch.tanh(x)\n",
        "\n",
        "        return x\n"
      ],
      "metadata": {
        "id": "quSHfbDjK0MK"
      },
      "execution_count": 5,
      "outputs": []
    },
    {
      "cell_type": "code",
      "source": [
        "class VAE(nn.Module):\n",
        "  def __init__(self, channels_in, ch=16, z=32):\n",
        "    super(VAE, self).__init__()\n",
        "    self.encoder = Encoder(channels=channels_in, ch=ch, z=z)\n",
        "    self.decoder = Decoder(channels=channels_in, ch=ch, z=z)\n",
        "\n",
        "  def forward(self, x):\n",
        "    encoding, mu, logvar = self.encoder(x)\n",
        "\n",
        "    if self.training:\n",
        "      x_recon = self.decoder(encoding)\n",
        "    else:\n",
        "      x_recon = self.decoder(mu)\n",
        "\n",
        "    return x_recon, mu, logvar"
      ],
      "metadata": {
        "id": "6R4qW8bzLRjt"
      },
      "execution_count": 6,
      "outputs": []
    },
    {
      "cell_type": "code",
      "source": [
        "def vae_loss(recon, x, mu, logvar):\n",
        "  recon_loss = F.mse_loss(recon, x, reduction='mean')\n",
        "  kl_loss = -0.5 * torch.mean(1 + logvar - mu.pow(2) - logvar.exp())\n",
        "  loss = recon_loss + 0.1 * kl_loss\n",
        "  return loss\n",
        "\n",
        "def psnr(recon, target, max_val=1.0):\n",
        "    mse = F.mse_loss(recon, target, reduction='mean')\n",
        "    if mse == 0:\n",
        "        return torch.tensor(100.0)\n",
        "    return 20 * torch.log10(max_val / torch.sqrt(mse))\n",
        "\n",
        "def add_noise(images, noise_factor=0.2):\n",
        "  noisy = images + noise_factor * torch.randn_like(images)\n",
        "  noisy = torch.clamp(noisy, -1., 1.)\n",
        "  return noisy"
      ],
      "metadata": {
        "id": "cBDEbs2NMHCy"
      },
      "execution_count": 17,
      "outputs": []
    },
    {
      "cell_type": "code",
      "source": [
        "device = torch.device(\"cuda\" if torch.cuda.is_available() else \"cpu\")\n",
        "model = VAE(channels_in=1).to(device)\n",
        "optimizer = optim.Adam(model.parameters(), lr=0.001)\n",
        "epochs = 10\n",
        "\n",
        "patience = 3\n",
        "best_val_loss = float(\"inf\")\n",
        "patience_counter = 0\n",
        "model_path = \"best_vae_model.pth\"\n",
        "\n",
        "\n",
        "for epoch in range(epochs):\n",
        "    model.train()\n",
        "    running_loss, running_psnr = 0.0, 0.0\n",
        "\n",
        "    for clean_images, _ in tqdm(train_loader, desc=f\"Epoch {epoch+1}/{epochs}\"):\n",
        "        clean_images = clean_images.to(device)\n",
        "        noisy_images = add_noise(clean_images)\n",
        "\n",
        "        optimizer.zero_grad()\n",
        "        outputs, mu, logvar = model(noisy_images)\n",
        "        loss = vae_loss(outputs, clean_images, mu, logvar)\n",
        "        loss.backward()\n",
        "        optimizer.step()\n",
        "\n",
        "        running_loss += loss.item()\n",
        "        running_psnr += psnr(outputs, clean_images).item()\n",
        "\n",
        "    train_loss = running_loss / len(train_loader)\n",
        "    train_psnr = running_psnr / len(train_loader)\n",
        "\n",
        "    model.eval()\n",
        "    val_loss_total, val_psnr = 0.0, 0.0\n",
        "    with torch.no_grad():\n",
        "        for clean_images, _ in val_loader:\n",
        "            clean_images = clean_images.to(device)\n",
        "            noisy_images = add_noise(clean_images)\n",
        "            outputs, mu, logvar = model(noisy_images)\n",
        "\n",
        "            loss = vae_loss(outputs, clean_images, mu, logvar)\n",
        "            val_loss_total += loss.item()\n",
        "            val_psnr += psnr(outputs, clean_images).item()\n",
        "\n",
        "    val_loss_avg = val_loss_total / len(val_loader)\n",
        "    val_psnr_avg = val_psnr / len(val_loader)\n",
        "\n",
        "    print(f\"\\nEpoch {epoch+1}/{epochs}\")\n",
        "    print(f\"Train Loss: {train_loss:.4f} | PSNR: {train_psnr:.2f}\")\n",
        "    print(f\"Val   Loss: {val_loss_avg:.4f} | PSNR: {val_psnr_avg:.2f}\")\n",
        "\n",
        "    if val_loss_avg < best_val_loss:\n",
        "        best_val_loss = val_loss_avg\n",
        "        patience_counter = 0\n",
        "        torch.save(model.state_dict(), model_path)\n",
        "        print(f\"✔ Model improved. Saved to {model_path}\")\n",
        "    else:\n",
        "        patience_counter += 1\n",
        "        if patience_counter >= patience:\n",
        "            print(\"⏹ Early stopping triggered!\")\n",
        "            break\n",
        "\n",
        "model.load_state_dict(torch.load(model_path))\n",
        "model.eval()\n",
        "test_loss, test_psnr = 0.0, 0.0\n",
        "\n",
        "with torch.no_grad():\n",
        "    for clean_images, _ in test_loader:\n",
        "        clean_images = clean_images.to(device)\n",
        "        noisy_images = add_noise(clean_images)\n",
        "        outputs, mu, logvar = model(noisy_images)\n",
        "\n",
        "        test_loss += vae_loss(outputs, clean_images, mu, logvar).item()\n",
        "        test_psnr += psnr(outputs, clean_images).item()\n",
        "\n",
        "test_loss /= len(test_loader)\n",
        "test_psnr /= len(test_loader)\n",
        "\n",
        "print(\"\\nTest Results:\")\n",
        "print(f\"Test Loss: {test_loss:.4f}\")\n",
        "print(f\"PSNR Score: {test_psnr:.2f} dB\")"
      ],
      "metadata": {
        "colab": {
          "base_uri": "https://localhost:8080/"
        },
        "id": "GuIMZS86NgYM",
        "outputId": "7a9bb1fc-ec06-4e8b-9fac-a183bd1331a6"
      },
      "execution_count": 18,
      "outputs": [
        {
          "output_type": "stream",
          "name": "stderr",
          "text": [
            "Epoch 1/10: 100%|██████████| 563/563 [00:49<00:00, 11.28it/s]\n"
          ]
        },
        {
          "output_type": "stream",
          "name": "stdout",
          "text": [
            "\n",
            "Epoch 1/10\n",
            "Train Loss: 0.0746 | PSNR: 13.14\n",
            "Val   Loss: 0.0302 | PSNR: 16.26\n",
            "✔ Model improved. Saved to best_ae_model.pth\n"
          ]
        },
        {
          "output_type": "stream",
          "name": "stderr",
          "text": [
            "Epoch 2/10: 100%|██████████| 563/563 [00:53<00:00, 10.55it/s]\n"
          ]
        },
        {
          "output_type": "stream",
          "name": "stdout",
          "text": [
            "\n",
            "Epoch 2/10\n",
            "Train Loss: 0.0279 | PSNR: 16.50\n",
            "Val   Loss: 0.0214 | PSNR: 17.79\n",
            "✔ Model improved. Saved to best_ae_model.pth\n"
          ]
        },
        {
          "output_type": "stream",
          "name": "stderr",
          "text": [
            "Epoch 3/10: 100%|██████████| 563/563 [00:47<00:00, 11.85it/s]\n"
          ]
        },
        {
          "output_type": "stream",
          "name": "stdout",
          "text": [
            "\n",
            "Epoch 3/10\n",
            "Train Loss: 0.0223 | PSNR: 17.47\n",
            "Val   Loss: 0.0194 | PSNR: 18.19\n",
            "✔ Model improved. Saved to best_ae_model.pth\n"
          ]
        },
        {
          "output_type": "stream",
          "name": "stderr",
          "text": [
            "Epoch 4/10: 100%|██████████| 563/563 [00:48<00:00, 11.50it/s]\n"
          ]
        },
        {
          "output_type": "stream",
          "name": "stdout",
          "text": [
            "\n",
            "Epoch 4/10\n",
            "Train Loss: 0.0197 | PSNR: 18.00\n",
            "Val   Loss: 0.0175 | PSNR: 18.56\n",
            "✔ Model improved. Saved to best_ae_model.pth\n"
          ]
        },
        {
          "output_type": "stream",
          "name": "stderr",
          "text": [
            "Epoch 5/10: 100%|██████████| 563/563 [00:47<00:00, 11.91it/s]\n"
          ]
        },
        {
          "output_type": "stream",
          "name": "stdout",
          "text": [
            "\n",
            "Epoch 5/10\n",
            "Train Loss: 0.0182 | PSNR: 18.33\n",
            "Val   Loss: 0.0156 | PSNR: 19.14\n",
            "✔ Model improved. Saved to best_ae_model.pth\n"
          ]
        },
        {
          "output_type": "stream",
          "name": "stderr",
          "text": [
            "Epoch 6/10: 100%|██████████| 563/563 [00:47<00:00, 11.95it/s]\n"
          ]
        },
        {
          "output_type": "stream",
          "name": "stdout",
          "text": [
            "\n",
            "Epoch 6/10\n",
            "Train Loss: 0.0171 | PSNR: 18.57\n",
            "Val   Loss: 0.0152 | PSNR: 19.22\n",
            "✔ Model improved. Saved to best_ae_model.pth\n"
          ]
        },
        {
          "output_type": "stream",
          "name": "stderr",
          "text": [
            "Epoch 7/10: 100%|██████████| 563/563 [00:47<00:00, 11.83it/s]\n"
          ]
        },
        {
          "output_type": "stream",
          "name": "stdout",
          "text": [
            "\n",
            "Epoch 7/10\n",
            "Train Loss: 0.0160 | PSNR: 18.86\n",
            "Val   Loss: 0.0147 | PSNR: 19.31\n",
            "✔ Model improved. Saved to best_ae_model.pth\n"
          ]
        },
        {
          "output_type": "stream",
          "name": "stderr",
          "text": [
            "Epoch 8/10: 100%|██████████| 563/563 [00:47<00:00, 11.76it/s]\n"
          ]
        },
        {
          "output_type": "stream",
          "name": "stdout",
          "text": [
            "\n",
            "Epoch 8/10\n",
            "Train Loss: 0.0154 | PSNR: 19.03\n",
            "Val   Loss: 0.0127 | PSNR: 20.02\n",
            "✔ Model improved. Saved to best_ae_model.pth\n"
          ]
        },
        {
          "output_type": "stream",
          "name": "stderr",
          "text": [
            "Epoch 9/10: 100%|██████████| 563/563 [00:47<00:00, 11.79it/s]\n"
          ]
        },
        {
          "output_type": "stream",
          "name": "stdout",
          "text": [
            "\n",
            "Epoch 9/10\n",
            "Train Loss: 0.0148 | PSNR: 19.18\n",
            "Val   Loss: 0.0134 | PSNR: 19.68\n"
          ]
        },
        {
          "output_type": "stream",
          "name": "stderr",
          "text": [
            "Epoch 10/10: 100%|██████████| 563/563 [00:47<00:00, 11.78it/s]\n"
          ]
        },
        {
          "output_type": "stream",
          "name": "stdout",
          "text": [
            "\n",
            "Epoch 10/10\n",
            "Train Loss: 0.0143 | PSNR: 19.33\n",
            "Val   Loss: 0.0124 | PSNR: 20.07\n",
            "✔ Model improved. Saved to best_ae_model.pth\n",
            "\n",
            "Test Results:\n",
            "Test Loss: 0.0124\n",
            "PSNR Score: 20.07 dB\n"
          ]
        }
      ]
    },
    {
      "cell_type": "code",
      "source": [
        "def show_images(orig, noisy, recon, n=1):\n",
        "    orig = orig[:n].cpu().squeeze(1)\n",
        "    noisy = noisy[:n].cpu().squeeze(1)\n",
        "    recon = recon[:n].cpu().squeeze(1)\n",
        "\n",
        "    fig, axes = plt.subplots(n, 3, figsize=(10, 4 * n))\n",
        "    if n == 1:\n",
        "        axes = [axes]\n",
        "    for i in range(n):\n",
        "        axes[i][0].imshow(orig[i], cmap='gray')\n",
        "        axes[i][0].set_title(\"Original\")\n",
        "        axes[i][0].axis('off')\n",
        "\n",
        "        axes[i][1].imshow(noisy[i], cmap='gray')\n",
        "        axes[i][1].set_title(\"Noisy\")\n",
        "        axes[i][1].axis('off')\n",
        "\n",
        "        axes[i][2].imshow(recon[i], cmap='gray')\n",
        "        axes[i][2].set_title(\"Reconstructed\")\n",
        "        axes[i][2].axis('off')\n",
        "    plt.tight_layout()\n",
        "    plt.show()\n",
        "\n",
        "with torch.no_grad():\n",
        "    clean_images, _ = next(iter(val_loader))\n",
        "    clean_images = clean_images.to(device)\n",
        "    noisy_images = add_noise(clean_images)\n",
        "    outputs, _, _ = model(noisy_images)\n",
        "    show_images(clean_images, noisy_images, outputs, n=2)"
      ],
      "metadata": {
        "colab": {
          "base_uri": "https://localhost:8080/",
          "height": 750
        },
        "id": "61-NJl6eVd8A",
        "outputId": "6cb8f68c-e787-4d43-d2e2-59da4a20c808"
      },
      "execution_count": 19,
      "outputs": [
        {
          "output_type": "display_data",
          "data": {
            "text/plain": [
              "<Figure size 1000x800 with 6 Axes>"
            ],
            "image/png": "[encoded data removed]"
          },
          "metadata": {}
        }
      ]
    },
    {
      "cell_type": "code",
      "source": [
        "from google.colab import files\n",
        "files.download(\"best_ae_model.pth\")"
      ],
      "metadata": {
        "colab": {
          "base_uri": "https://localhost:8080/",
          "height": 17
        },
        "id": "uWe7zi0pWLTN",
        "outputId": "940e308e-dad9-46e4-9263-96755cfbf9ac"
      },
      "execution_count": 20,
      "outputs": [
        {
          "output_type": "display_data",
          "data": {
            "text/plain": [
              "<IPython.core.display.Javascript object>"
            ],
            "application/javascript": [
              "\n",
              "    async function download(id, filename, size) {\n",
              "      if (!google.colab.kernel.accessAllowed) {\n",
              "        return;\n",
              "      }\n",
              "      const div = document.createElement('div');\n",
              "      const label = document.createElement('label');\n",
              "      label.textContent = `Downloading \"${filename}\": `;\n",
              "      div.appendChild(label);\n",
              "      const progress = document.createElement('progress');\n",
              "      progress.max = size;\n",
              "      div.appendChild(progress);\n",
              "      document.body.appendChild(div);\n",
              "\n",
              "      const buffers = [];\n",
              "      let downloaded = 0;\n",
              "\n",
              "      const channel = await google.colab.kernel.comms.open(id);\n",
              "      // Send a message to notify the kernel that we're ready.\n",
              "      channel.send({})\n",
              "\n",
              "      for await (const message of channel.messages) {\n",
              "        // Send a message to notify the kernel that we're ready.\n",
              "        channel.send({})\n",
              "        if (message.buffers) {\n",
              "          for (const buffer of message.buffers) {\n",
              "            buffers.push(buffer);\n",
              "            downloaded += buffer.byteLength;\n",
              "            progress.value = downloaded;\n",
              "          }\n",
              "        }\n",
              "      }\n",
              "      const blob = new Blob(buffers, {type: 'application/binary'});\n",
              "      const a = document.createElement('a');\n",
              "      a.href = window.URL.createObjectURL(blob);\n",
              "      a.download = filename;\n",
              "      div.appendChild(a);\n",
              "      a.click();\n",
              "      div.remove();\n",
              "    }\n",
              "  "
            ]
          },
          "metadata": {}
        },
        {
          "output_type": "display_data",
          "data": {
            "text/plain": [
              "<IPython.core.display.Javascript object>"
            ],
            "application/javascript": [
              "download(\"download_2b17c854-b586-4e23-a9ca-c0262d743fd1\", \"best_ae_model.pth\", 742910)"
            ]
          },
          "metadata": {}
        }
      ]
    }
  ]
}